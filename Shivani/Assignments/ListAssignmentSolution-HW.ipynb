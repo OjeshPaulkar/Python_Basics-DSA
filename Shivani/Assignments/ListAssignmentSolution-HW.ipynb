{
 "cells": [
  {
   "cell_type": "markdown",
   "id": "1b836ffd",
   "metadata": {},
   "source": [
    "# Module 3: Data Structures Assignments\n",
    "## Lesson 3.1: Lists\n",
    "\n",
    "### Assignment 1: Creating and Accessing Lists\n",
    "Create a list of the first 20 positive integers. Print the list."
   ]
  },
  {
   "cell_type": "code",
   "execution_count": 3,
   "id": "5e0e7497",
   "metadata": {},
   "outputs": [
    {
     "name": "stdout",
     "output_type": "stream",
     "text": [
      "[1, 2, 3, 4, 5, 6, 7, 8, 9, 10, 11, 12, 13, 14, 15, 16, 17, 18, 19, 20]\n"
     ]
    }
   ],
   "source": [
    "positive_integers = list(range(1,21))\n",
    "print(positive_integers)"
   ]
  },
  {
   "cell_type": "code",
   "execution_count": 11,
   "id": "267b9467",
   "metadata": {},
   "outputs": [
    {
     "name": "stdout",
     "output_type": "stream",
     "text": [
      "First Element: 1\n",
      "Second Element: 11\n",
      "Second Element: 20\n"
     ]
    }
   ],
   "source": [
    "### Assignment 2: Accessing List Elements\n",
    "## Print the first, middle, and last elements of the list created in Assignment 1.\n",
    "\n",
    "print(f\"First Element: {positive_integers[0]}\")\n",
    "print(f\"Second Element: {positive_integers[len(positive_integers)//2]}\")\n",
    "print(f\"Second Element: {positive_integers[-1]}\")\n"
   ]
  },
  {
   "cell_type": "code",
   "execution_count": 18,
   "id": "513f1eda",
   "metadata": {},
   "outputs": [
    {
     "name": "stdout",
     "output_type": "stream",
     "text": [
      "First Five Elements: [1, 2, 3, 4, 5]\n",
      "Last Five Elements: [16, 17, 18, 19, 20]\n",
      "Elements from 5-15: [5, 6, 7, 8, 9, 10, 11, 12, 13, 14, 15]\n"
     ]
    }
   ],
   "source": [
    "### Assignment 3: List Slicing\n",
    "## Print the first five elements, the last five elements, and the elements from index 5 to 15 of the list created in Assignment 1.\n",
    "\n",
    "print(f\"First Five Elements: {positive_integers[:5]}\")    \n",
    "print(f\"Last Five Elements: {positive_integers[-5:]}\")  \n",
    "print(f\"Elements from 5-15: {positive_integers[4:15]}\")"
   ]
  },
  {
   "cell_type": "code",
   "execution_count": 19,
   "id": "36b772ac",
   "metadata": {},
   "outputs": [
    {
     "name": "stdout",
     "output_type": "stream",
     "text": [
      "[1, 4, 9, 16, 25, 36, 49, 64, 81, 100]\n"
     ]
    }
   ],
   "source": [
    "### Assignment 4: List Comprehensions\n",
    "## Create a new list containing the squares of the first 10 positive integers using a list comprehension. Print the new list.\n",
    "\n",
    "squares = [x*x for x in range(1,11)]\n",
    "print(squares)"
   ]
  },
  {
   "cell_type": "code",
   "execution_count": 23,
   "id": "6ef9b1ca",
   "metadata": {},
   "outputs": [
    {
     "name": "stdout",
     "output_type": "stream",
     "text": [
      "[2, 4, 6, 8, 10, 12, 14, 16, 18, 20]\n"
     ]
    }
   ],
   "source": [
    "### Assignment 5: Filtering Lists\n",
    "## Create a new list containing only the even numbers from the list created in Assignment 1 using a list comprehension. Print the new list.\n",
    "\n",
    "even_numbers = list(x for x in positive_integers if x%2==0)\n",
    "print(even_numbers)"
   ]
  }
 ],
 "metadata": {
  "kernelspec": {
   "display_name": "PythonBasics",
   "language": "python",
   "name": "python3"
  },
  "language_info": {
   "codemirror_mode": {
    "name": "ipython",
    "version": 3
   },
   "file_extension": ".py",
   "mimetype": "text/x-python",
   "name": "python",
   "nbconvert_exporter": "python",
   "pygments_lexer": "ipython3",
   "version": "3.12.11"
  }
 },
 "nbformat": 4,
 "nbformat_minor": 5
}
