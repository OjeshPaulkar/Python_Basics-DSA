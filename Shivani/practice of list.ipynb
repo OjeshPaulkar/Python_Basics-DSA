{
 "cells": [
  {
   "cell_type": "code",
   "execution_count": 3,
   "id": "1ab43517",
   "metadata": {},
   "outputs": [
    {
     "name": "stdout",
     "output_type": "stream",
     "text": [
      "['goa', 'delhi', 'assam', 'haryana', 'punjab']\n",
      "<class 'list'>\n"
     ]
    }
   ],
   "source": [
    "states = [\"goa\", \"delhi\", \"assam\", \"haryana\", \"punjab\"]\n",
    "print(states)\n",
    "print(type(states))"
   ]
  },
  {
   "cell_type": "code",
   "execution_count": null,
   "id": "1c0fcc24",
   "metadata": {},
   "outputs": [
    {
     "name": "stdout",
     "output_type": "stream",
     "text": [
      "goa\n",
      "punjab\n",
      "haryana\n",
      "assam\n",
      "['delhi', 'assam', 'haryana', 'punjab']\n",
      "['delhi', 'assam']\n"
     ]
    }
   ],
   "source": [
    "print(states[0])\n",
    "print(states[-1])\n",
    "print(states[3])\n",
    "print(states[-3])\n",
    "print(states[1:])\n",
    "print(states[1:3])"
   ]
  },
  {
   "cell_type": "code",
   "execution_count": 12,
   "id": "d17335ba",
   "metadata": {},
   "outputs": [
    {
     "name": "stdout",
     "output_type": "stream",
     "text": [
      "['goa', 'delhi', 'assam', 'haryana', 'punjab']\n",
      "['goa', 'delhi', 'tamil nadu', 'haryana', 'punjab']\n"
     ]
    }
   ],
   "source": [
    "print(states)\n",
    "states[2]= \"tamil nadu\"\n",
    "print(states)"
   ]
  },
  {
   "cell_type": "code",
   "execution_count": null,
   "id": "4061e7a2",
   "metadata": {},
   "outputs": [
    {
     "name": "stdout",
     "output_type": "stream",
     "text": [
      "['goa', 'delhi', 'tamil nadu', 'haryana', 'punjab']\n",
      "['goa', 'delhi', 'tamil nadu', 'haryana', 'punjab', 'assam']\n",
      "['goa', 'gujarat', 'delhi', 'tamil nadu', 'haryana', 'punjab', 'assam']\n",
      "['goa', 'gujarat', 'delhi', 'haryana', 'punjab', 'assam']\n",
      "assam\n",
      "['goa', 'gujarat', 'delhi', 'haryana', 'punjab']\n"
     ]
    }
   ],
   "source": [
    "states = ['goa', 'delhi', 'tamil nadu', 'haryana', 'punjab']\n",
    "print(states)\n",
    "\n",
    "states.append(\"assam\")     ## adds an item at the end of the list. exactly takes only 1 arguement\n",
    "print(states)\n",
    "\n",
    "states.insert(1,\"gujarat\")    ## inserts an item at the given position\n",
    "print(states)\n",
    "\n",
    "states.remove(\"tamil nadu\")   ## simply remove the stated item\n",
    "print(states)\n",
    "\n",
    "popped = states.pop()    ## displays and removes the last item in a list\n",
    "print(popped)\n",
    "print(states)\n"
   ]
  },
  {
   "cell_type": "code",
   "execution_count": 48,
   "id": "75135e0f",
   "metadata": {},
   "outputs": [
    {
     "name": "stdout",
     "output_type": "stream",
     "text": [
      "['goa', 'gujarat', 'delhi', 'haryana', 'punjab']\n",
      "3\n"
     ]
    }
   ],
   "source": [
    "print(states)\n",
    "index = states.index(\"haryana\")         ## gives the position of the item in the list\n",
    "print(index)\n"
   ]
  },
  {
   "cell_type": "code",
   "execution_count": 61,
   "id": "b82c64f3",
   "metadata": {},
   "outputs": [
    {
     "name": "stdout",
     "output_type": "stream",
     "text": [
      "['goa', 'gujarat', 'delhi', 'delhi', 'haryana', 'punjab']\n",
      "['goa', 'gujarat', 'delhi', 'haryana', 'punjab']\n"
     ]
    }
   ],
   "source": [
    "# states.insert(2,\"delhi\")\n",
    "print(states)\n",
    "states.count(\"delhi\")\n",
    "states.remove(\"delhi\")\n",
    "print(states)"
   ]
  },
  {
   "cell_type": "code",
   "execution_count": 70,
   "id": "acbe716b",
   "metadata": {},
   "outputs": [
    {
     "name": "stdout",
     "output_type": "stream",
     "text": [
      "['goa', 'delhi', 'assam', 'haryana', 'punjab', 'tamil nadu', 'maharashtra']\n"
     ]
    }
   ],
   "source": [
    "states = [\"goa\", \"delhi\", \"assam\", \"haryana\", \"punjab\", \"tamil nadu\", \"maharashtra\"]\n",
    "print(states)"
   ]
  },
  {
   "cell_type": "code",
   "execution_count": null,
   "id": "6fda5c12",
   "metadata": {},
   "outputs": [
    {
     "name": "stdout",
     "output_type": "stream",
     "text": [
      "['assam', 'delhi', 'goa', 'haryana', 'maharashtra', 'punjab', 'tamil nadu']\n"
     ]
    }
   ],
   "source": [
    "states.sort()   ## by default sorts in ascending order\n",
    "print(states)"
   ]
  },
  {
   "cell_type": "code",
   "execution_count": null,
   "id": "2cfda757",
   "metadata": {},
   "outputs": [
    {
     "name": "stdout",
     "output_type": "stream",
     "text": [
      "['assam', 'delhi', 'goa', 'haryana', 'maharashtra', 'punjab', 'tamil nadu']\n"
     ]
    }
   ],
   "source": [
    "states.reverse()\n",
    "print(states)\n"
   ]
  },
  {
   "cell_type": "code",
   "execution_count": 74,
   "id": "f5437128",
   "metadata": {},
   "outputs": [
    {
     "name": "stdout",
     "output_type": "stream",
     "text": [
      "[]\n"
     ]
    }
   ],
   "source": [
    "states.clear()\n",
    "print(states)"
   ]
  },
  {
   "cell_type": "code",
   "execution_count": null,
   "id": "17111162",
   "metadata": {},
   "outputs": [
    {
     "name": "stdout",
     "output_type": "stream",
     "text": [
      "('netflix', 'hotstar', 'prime', 'zee5', 'sonyliv', 'mxplayer', 'jiocinema')\n",
      "('hotstar', 'prime', 'zee5')\n",
      "('netflix', 'hotstar')\n",
      "('prime', 'zee5', 'sonyliv', 'mxplayer', 'jiocinema')\n",
      "('netflix', 'zee5', 'jiocinema')\n",
      "('jiocinema', 'sonyliv', 'prime', 'netflix')\n"
     ]
    }
   ],
   "source": [
    "ott = (\"netflix\", \"hotstar\", \"prime\", \"zee5\", \"sonyliv\", \"mxplayer\", \"jiocinema\")\n",
    "print(ott)\n",
    "print(ott[1:4])     ## displays between the range\n",
    "print(ott[:2])      ## displays upto the given number item\n",
    "print(ott[2:])      ## Displays all the item after the given number\n",
    "print(ott[::3])     ## displays nth item\n",
    "print(ott[::-2])    ## Displays nth item reversely"
   ]
  },
  {
   "cell_type": "code",
   "execution_count": 87,
   "id": "83599937",
   "metadata": {},
   "outputs": [
    {
     "name": "stdout",
     "output_type": "stream",
     "text": [
      "netflix\n",
      "hotstar\n",
      "prime\n",
      "zee5\n",
      "sonyliv\n",
      "mxplayer\n",
      "jiocinema\n"
     ]
    }
   ],
   "source": [
    "##iterating over lists (lists with loop)\n",
    "\n",
    "for name in ott:\n",
    "    print(name)\n"
   ]
  },
  {
   "cell_type": "code",
   "execution_count": 92,
   "id": "23b1e773",
   "metadata": {},
   "outputs": [
    {
     "name": "stdout",
     "output_type": "stream",
     "text": [
      "0 netflix\n",
      "1 hotstar\n",
      "2 prime\n",
      "3 zee5\n",
      "4 sonyliv\n",
      "5 mxplayer\n",
      "6 jiocinema\n"
     ]
    }
   ],
   "source": [
    "for index, name in enumerate(ott):\n",
    "    print(index,name)"
   ]
  },
  {
   "cell_type": "code",
   "execution_count": 24,
   "id": "681fafb6",
   "metadata": {},
   "outputs": [],
   "source": [
    "## list comprehension\n",
    "\n",
    "## list of squares of num from 1 to 10\n",
    "# [num**2 for num in range(1,11)]\n",
    "\n",
    "## each num from 1 to 10 is doubled\n",
    "# [num*2 for num in range(1,11)]\n",
    "\n",
    "## list of string from word \"python\"\n",
    "\n"
   ]
  },
  {
   "cell_type": "code",
   "execution_count": 25,
   "id": "fc16eee5",
   "metadata": {},
   "outputs": [
    {
     "name": "stdout",
     "output_type": "stream",
     "text": [
      "[0, 1, 4, 9, 16, 25]\n"
     ]
    }
   ],
   "source": [
    "square = [num**2 for num in range(6)]\n",
    "print(square)\n",
    "       \n"
   ]
  },
  {
   "cell_type": "code",
   "execution_count": 31,
   "id": "7197373b",
   "metadata": {},
   "outputs": [
    {
     "name": "stdout",
     "output_type": "stream",
     "text": [
      "['p', 'y', 't', 'h', 'o', 'n']\n"
     ]
    }
   ],
   "source": [
    "str=\"python\"\n",
    "char=[char for char in str]\n",
    "print(char)"
   ]
  },
  {
   "cell_type": "code",
   "execution_count": 33,
   "id": "3a27eb6e",
   "metadata": {},
   "outputs": [
    {
     "name": "stdout",
     "output_type": "stream",
     "text": [
      "[1, 8, 27, 64, 125]\n"
     ]
    }
   ],
   "source": [
    "cubes = [num**3 for num in range(1,6)]\n",
    "print(cubes)"
   ]
  },
  {
   "cell_type": "code",
   "execution_count": 40,
   "id": "cfa00f54",
   "metadata": {},
   "outputs": [
    {
     "name": "stdout",
     "output_type": "stream",
     "text": [
      "[2, 4, 6, 8, 10]\n"
     ]
    }
   ],
   "source": [
    "even = [num for num in range(1,11) if num%2==0]\n",
    "print(even)"
   ]
  },
  {
   "cell_type": "code",
   "execution_count": 43,
   "id": "6daaf2f0",
   "metadata": {},
   "outputs": [
    {
     "name": "stdout",
     "output_type": "stream",
     "text": [
      "[1, 9, 25, 49, 81]\n"
     ]
    }
   ],
   "source": [
    "odd=[num**2 for num in range(1,11) if num%2!=0]\n",
    "print(odd)"
   ]
  },
  {
   "cell_type": "code",
   "execution_count": 49,
   "id": "233def16",
   "metadata": {},
   "outputs": [
    {
     "name": "stdout",
     "output_type": "stream",
     "text": [
      "['kiwi', 'pear']\n"
     ]
    }
   ],
   "source": [
    "fruits = [\"apple\", \"banana\", \"kiwi\", \"mango\", \"pear\"]\n",
    "char_5=[fruit for fruit in fruits if len(fruit)<5]\n",
    "print(char_5)"
   ]
  },
  {
   "cell_type": "code",
   "execution_count": 50,
   "id": "d50c1617",
   "metadata": {},
   "outputs": [
    {
     "name": "stdout",
     "output_type": "stream",
     "text": [
      "[3, 6, 9, 12, 15, 18]\n"
     ]
    }
   ],
   "source": [
    "div_3=[num for num in range(1,21) if num%3==0]\n",
    "print(div_3)"
   ]
  },
  {
   "cell_type": "code",
   "execution_count": 55,
   "id": "f91957d3",
   "metadata": {},
   "outputs": [
    {
     "name": "stdout",
     "output_type": "stream",
     "text": [
      "['I', 'P']\n"
     ]
    }
   ],
   "source": [
    "sentence = \"I love Python\"\n",
    "upper=[letter for letter in sentence if letter.isupper()]\n",
    "print(upper)\n"
   ]
  },
  {
   "cell_type": "code",
   "execution_count": 68,
   "id": "88a62493",
   "metadata": {},
   "outputs": [
    {
     "name": "stdout",
     "output_type": "stream",
     "text": [
      "['Odd', 'Even', 'Odd', 'Even', 'Odd', 'Even', 'Odd', 'Even', 'Odd', 'Even']\n"
     ]
    }
   ],
   "source": [
    "result= [\"Even\" if num%2==0 else \"Odd\" for num in range(1,11)]\n",
    "print(result)\n"
   ]
  }
 ],
 "metadata": {
  "kernelspec": {
   "display_name": "Python 3",
   "language": "python",
   "name": "python3"
  },
  "language_info": {
   "codemirror_mode": {
    "name": "ipython",
    "version": 3
   },
   "file_extension": ".py",
   "mimetype": "text/x-python",
   "name": "python",
   "nbconvert_exporter": "python",
   "pygments_lexer": "ipython3",
   "version": "3.12.0"
  }
 },
 "nbformat": 4,
 "nbformat_minor": 5
}
