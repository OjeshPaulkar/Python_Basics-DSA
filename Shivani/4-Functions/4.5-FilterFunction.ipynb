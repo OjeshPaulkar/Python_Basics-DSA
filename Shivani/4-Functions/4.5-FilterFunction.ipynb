{
 "cells": [
  {
   "cell_type": "markdown",
   "id": "ed7ac8ab",
   "metadata": {},
   "source": [
    "##### The filter() Function in Python\n",
    "The filter() function constructs an iterator from elements of an iterable for which a function returns true. \n",
    "\n",
    "In Simple words: It is used to filter out items from a list (or any other iterable) based on a condition."
   ]
  },
  {
   "cell_type": "code",
   "execution_count": null,
   "id": "4c3c041a",
   "metadata": {},
   "outputs": [],
   "source": [
    "## Syntax for filter function:\n",
    "filter(function,iterable)"
   ]
  },
  {
   "cell_type": "code",
   "execution_count": 17,
   "id": "9add2616",
   "metadata": {},
   "outputs": [
    {
     "data": {
      "text/plain": [
       "[22, 52, 32, 98, 76, 42]"
      ]
     },
     "execution_count": 17,
     "metadata": {},
     "output_type": "execute_result"
    }
   ],
   "source": [
    "## Example of filter:\n",
    "\n",
    "number_list = [22,21,52,65,45,32,98,76,42]\n",
    "def even_number(n):\n",
    "    if n%2==0:\n",
    "        return True\n",
    "## calling\n",
    "even_number(24)\n",
    "\n",
    "## Filter\n",
    "list(filter(even_number,number_list))\n"
   ]
  },
  {
   "cell_type": "code",
   "execution_count": 12,
   "id": "854191cf",
   "metadata": {},
   "outputs": [
    {
     "name": "stdout",
     "output_type": "stream",
     "text": [
      "[22, 52, 32, 98, 76, 42]\n"
     ]
    }
   ],
   "source": [
    "## Filter with lambda function:\n",
    "\n",
    "number_list = [22,21,52,65,45,32,98,76,42]\n",
    "\n",
    "## Filter even numbers from number_list \n",
    "\n",
    "even_num = list(filter(lambda n:n%2==0,number_list))        ## [22,52,32,98,76,42]\n",
    "print(even_num)\n"
   ]
  },
  {
   "cell_type": "code",
   "execution_count": 1,
   "id": "5756f437",
   "metadata": {},
   "outputs": [
    {
     "name": "stdout",
     "output_type": "stream",
     "text": [
      "[6, 8, 10]\n"
     ]
    }
   ],
   "source": [
    "## Filter with a Lambda Function and multiple conditions:\n",
    "\n",
    "numbers = [1,2,3,4,5,6,7,8,9,10]\n",
    "\n",
    "## Filter out even numbers and greater than 5.\n",
    "\n",
    "even_and_greater_than_5 = list(filter(lambda x:x%2==0 and x>5,numbers))\n",
    "print(even_and_greater_than_5)"
   ]
  },
  {
   "cell_type": "code",
   "execution_count": null,
   "id": "c85a9aae",
   "metadata": {},
   "outputs": [
    {
     "data": {
      "text/plain": [
       "[{'name': 'Amitji', 'age': 26}, {'name': 'Sitaramji', 'age': 32}]"
      ]
     },
     "execution_count": 9,
     "metadata": {},
     "output_type": "execute_result"
    }
   ],
   "source": [
    "## Apply filter to check if the age is greater than 25 in dictionary:\n",
    "\n",
    "people = [\n",
    "    {'name': 'Modiji', 'age': 21},\n",
    "    {'name': 'Amitji', 'age': 26},\n",
    "    {'name': 'Rahulji', 'age':25},\n",
    "    {'name': 'Sitaramji', 'age':32}\n",
    "]\n",
    "def get_age_greater_than_25(person):\n",
    "    return person['age']>25\n",
    "\n",
    "list(filter(get_age_greater_than_25,people))\n",
    "\n",
    "\n"
   ]
  },
  {
   "cell_type": "markdown",
   "id": "e73c977e",
   "metadata": {},
   "source": [
    "##### Conclusion\n",
    "The filter() function is a powerful tool for creating iterators that filter items out of an iterable based on a function. It is commonly used for data cleaning, filtering objects, and removing unwanted elements from lists. By mastering filter(), you can write more concise and efficient code for processing and manipulating collections in Python."
   ]
  },
  {
   "cell_type": "markdown",
   "id": "47bcf4c9",
   "metadata": {},
   "source": [
    "### Quick Read\n",
    "\n",
    "1. Used to: Select elements from an iterable based on a condition.\n",
    "2. Syntax: filter(function, iterable)\n",
    "3. Returns: filter object → convert using list(), tuple(), etc.\n",
    "4. Function must return: True (keep) or False (discard).\n",
    "5. Shortcut to remember:\n",
    "6. map = change\n",
    "7. filter = choose"
   ]
  }
 ],
 "metadata": {
  "kernelspec": {
   "display_name": "PythonBasics",
   "language": "python",
   "name": "python3"
  },
  "language_info": {
   "codemirror_mode": {
    "name": "ipython",
    "version": 3
   },
   "file_extension": ".py",
   "mimetype": "text/x-python",
   "name": "python",
   "nbconvert_exporter": "python",
   "pygments_lexer": "ipython3",
   "version": "3.12.11"
  }
 },
 "nbformat": 4,
 "nbformat_minor": 5
}
