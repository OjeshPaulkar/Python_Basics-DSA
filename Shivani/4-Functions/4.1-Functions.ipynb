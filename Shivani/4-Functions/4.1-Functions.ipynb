{
 "cells": [
  {
   "cell_type": "markdown",
   "id": "0538389f",
   "metadata": {},
   "source": [
    "#### Functions in Python\n",
    "Video Outline:\n",
    "1. Introduction to Functions\n",
    "2. Defining Functions\n",
    "3. Calling Functions\n",
    "4. Function Parameters\n",
    "5. Default Parameters\n",
    "6. Variable-Length Arguments\n",
    "7. Return Statement"
   ]
  },
  {
   "cell_type": "markdown",
   "id": "f3d77e6f",
   "metadata": {},
   "source": [
    "##### Introduction to Functions\n",
    "Definition:\n",
    "\n",
    "A function is a block of code that performs a specific task.\n",
    "Functions help in organizing code, reusing code, and improving readability."
   ]
  },
  {
   "cell_type": "code",
   "execution_count": null,
   "id": "3ad3f279",
   "metadata": {},
   "outputs": [],
   "source": [
    "## Syntax for creating a function           ## Empty Function    \n",
    "def function_name(parameters):              ## Naming a function we want to create\n",
    "    \"\"\"Docstring\"\"\"                         ## Defining or giving breif of function created (totally optional but recommended)\n",
    "    ##Function_body                         ## This is where we write our block of code\n",
    "    Return Expression                       ## Return value (not necessary every function will have return value)\n"
   ]
  },
  {
   "cell_type": "code",
   "execution_count": null,
   "id": "f7b26a12",
   "metadata": {},
   "outputs": [
    {
     "name": "stdout",
     "output_type": "stream",
     "text": [
      "The number is Even\n"
     ]
    }
   ],
   "source": [
    "## Why functions required : Organising and reusing the code-for better readability\n",
    "## for checking a number whether it is even or odd without creating a function:\n",
    "num = 24\n",
    "if num%2==0:\n",
    "    print(\"The number is Even\")\n",
    "else:\n",
    "    print(\"The number is Odd\")\n",
    "\n",
    "## So now every time for checking a number we need to copy this above code which is very time consuming.\n",
    "## So instead copying the above code we can create a function which will ease our task.\n",
    "## Creating our first function:\n",
    "\n",
    "def even_or_odd(num):\n",
    "    \"\"\"checks number is even or odd\"\"\"\n",
    "    if num%2==0:\n",
    "        print(\"The number is Even\")\n",
    "    else:\n",
    "        print(\"The number is Odd\")\n"
   ]
  },
  {
   "cell_type": "code",
   "execution_count": 8,
   "id": "6cc079ca",
   "metadata": {},
   "outputs": [
    {
     "name": "stdout",
     "output_type": "stream",
     "text": [
      "The number is Even\n",
      "The number is Odd\n"
     ]
    }
   ],
   "source": [
    "## Now to check a number just use function as follows instead writing code \n",
    "## This is known as calling a function\n",
    "\n",
    "even_or_odd(24)\n",
    "even_or_odd(33)"
   ]
  },
  {
   "cell_type": "code",
   "execution_count": null,
   "id": "6513d70c",
   "metadata": {},
   "outputs": [
    {
     "name": "stdout",
     "output_type": "stream",
     "text": [
      "Result: 5\n"
     ]
    }
   ],
   "source": [
    "## Functions with multiple parameters: (2 Parameters)  ## Fixed number of arguements\n",
    "\n",
    "def add(a,b):                             ## Created a function using 2 parameters-a and b\n",
    "    \"\"\"performs addition\"\"\"\n",
    "    return a+b                            ## Returning expression\n",
    "\n",
    "add(2,3)\n",
    "add(3,6)\n",
    "result = add(2,3)\n",
    "print(f\"Result: {result}\")\n"
   ]
  },
  {
   "cell_type": "code",
   "execution_count": 22,
   "id": "9a5fb584",
   "metadata": {},
   "outputs": [
    {
     "name": "stdout",
     "output_type": "stream",
     "text": [
      "Answer is: 3\n"
     ]
    }
   ],
   "source": [
    "## Functions with multiple multiple parameters: (3 Parameters)\n",
    "\n",
    "def add_sub(x,y,z):\n",
    "    \"\"\"performs addition and substraction\"\"\"\n",
    "    return x+y-z\n",
    "\n",
    "add_sub(2,3,1)\n",
    "result = add_sub(1,3,1)\n",
    "print(f\"Answer is: {result}\")\n",
    "\n"
   ]
  },
  {
   "cell_type": "code",
   "execution_count": null,
   "id": "8188a196",
   "metadata": {},
   "outputs": [
    {
     "name": "stdout",
     "output_type": "stream",
     "text": [
      "Namaste shivani Welcome to the Paradise\n"
     ]
    }
   ],
   "source": [
    "## Function with default parameters\n",
    "## Example we want to create a function that greets the guest when they enter the premise\n",
    "\n",
    "def greet(name):\n",
    "    \"\"\"Greets Guests\"\"\"\n",
    "    print(f\"Namaste {name} Welcome to the Paradise\")\n",
    "\n",
    "greet(\"shivani\")"
   ]
  },
  {
   "cell_type": "code",
   "execution_count": 32,
   "id": "0936f2f8",
   "metadata": {},
   "outputs": [
    {
     "name": "stdout",
     "output_type": "stream",
     "text": [
      "Namaste guest Welcome to the Paradise\n",
      "Namaste peter parkar Welcome to the Paradise\n"
     ]
    }
   ],
   "source": [
    "## What if the guest is not ready to disclose name \n",
    "## then we can set a default value that will greet the guest.\n",
    "\n",
    "def greet(name=\"guest\"):\n",
    "    \"\"\"Greets Guests\"\"\"\n",
    "    print(f\"Namaste {name} Welcome to the Paradise\")\n",
    "\n",
    "greet(\"guest\")\n",
    "\n",
    "## Here we can change the name from guest to xyz still it will work\n",
    "## for eg. if a guest is ready ti disclose its name we can add his name to the function\n",
    "\n",
    "greet(\"peter parkar\")"
   ]
  },
  {
   "cell_type": "markdown",
   "id": "977a3ede",
   "metadata": {},
   "source": [
    "## Variable (number of) length arguements :     \n",
    "    ## 1. Positional Variable length arguement (*args)\n",
    "    ## 2. Keyword Variable length arguement (*kwargs)\n",
    "## Disclaimer: here variable does not mean variable of python like x=10; here variable means fixed, changing, flexible, not fixed.\n",
    "## So in short: Variable arguments = arguments whose number can change each time you call the function. \n",
    "## The above add function created is fixed number of arguements. "
   ]
  },
  {
   "cell_type": "code",
   "execution_count": null,
   "id": "45ef5158",
   "metadata": {},
   "outputs": [
    {
     "name": "stdout",
     "output_type": "stream",
     "text": [
      "1\n",
      "2\n",
      "3\n",
      "8\n",
      "6\n",
      "7\n",
      "Shivani\n"
     ]
    }
   ],
   "source": [
    "## Positional Variable length arguement (*args)\n",
    "## Used when you don’t know beforehand how many positional arguments you’ll receive.\n",
    "## Inside the function, *args is treated as a tuple.\n",
    "\n",
    "def numbers(*args):\n",
    "    for numbers in args:\n",
    "        print(numbers)\n",
    "\n",
    "## Calling the function:\n",
    "numbers(1,2,3,8,6,7,\"Shivani\")          ## args inside a function is treated as tuple."
   ]
  },
  {
   "cell_type": "code",
   "execution_count": null,
   "id": "c3fcce2a",
   "metadata": {},
   "outputs": [
    {
     "name": "stdout",
     "output_type": "stream",
     "text": [
      "name:peter\n",
      "age:18\n",
      "country:India\n"
     ]
    }
   ],
   "source": [
    "## Keyword Variable length arguement (**kwargs):\n",
    "## Used when you don’t know beforehand how many keyword arguments you’ll receive.\n",
    "## Inside the function, **kwargs is treated as a dictionary\n",
    "\n",
    "def details(**kwargs):\n",
    "    for key,value in kwargs.items():\n",
    "        print(f\"{key}:{value}\")\n",
    "\n",
    "details(name=\"peter\", age=18, country=\"India\")"
   ]
  },
  {
   "cell_type": "code",
   "execution_count": 46,
   "id": "7ac63e48",
   "metadata": {},
   "outputs": [
    {
     "name": "stdout",
     "output_type": "stream",
     "text": [
      "('name', 'peter')\n",
      "('age', 18)\n",
      "('country', 'India')\n"
     ]
    }
   ],
   "source": [
    "\n",
    "def details(**kwargs):\n",
    "    for details in kwargs.items():\n",
    "        print(details)\n",
    "\n",
    "details(name=\"peter\", age=18, country=\"India\")"
   ]
  },
  {
   "cell_type": "code",
   "execution_count": 50,
   "id": "f609d9c8",
   "metadata": {},
   "outputs": [
    {
     "name": "stdout",
     "output_type": "stream",
     "text": [
      "Positional Arguements: 1\n",
      "Positional Arguements: 2\n",
      "Positional Arguements: 3\n",
      "Positional Arguements: 8\n",
      "Positional Arguements: 6\n",
      "Positional Arguements: 7\n",
      "Positional Arguements: Shivani\n",
      "name:peter\n",
      "age:18\n",
      "country:India\n"
     ]
    }
   ],
   "source": [
    "## Using both positional and keyword together\n",
    "\n",
    "def details(*args, **kwargs):\n",
    "    \n",
    "    for numbers in args:\n",
    "        print(f\"Positional Arguements: {numbers}\")\n",
    "\n",
    "    for key,value in kwargs.items():\n",
    "        print(f\"{key}:{value}\")\n",
    "\n",
    "details(1,2,3,8,6,7,\"Shivani\",name=\"peter\", age=18, country=\"India\") "
   ]
  },
  {
   "cell_type": "code",
   "execution_count": null,
   "id": "5b194c07",
   "metadata": {},
   "outputs": [
    {
     "data": {
      "text/plain": [
       "(6, 2, 3)"
      ]
     },
     "execution_count": 52,
     "metadata": {},
     "output_type": "execute_result"
    }
   ],
   "source": [
    "### Return multiple parameters\n",
    "def multiply(a,b):\n",
    "    return a*b,a,b\n",
    "\n",
    "multiply(2,3)"
   ]
  }
 ],
 "metadata": {
  "kernelspec": {
   "display_name": "PythonBasics",
   "language": "python",
   "name": "python3"
  },
  "language_info": {
   "codemirror_mode": {
    "name": "ipython",
    "version": 3
   },
   "file_extension": ".py",
   "mimetype": "text/x-python",
   "name": "python",
   "nbconvert_exporter": "python",
   "pygments_lexer": "ipython3",
   "version": "3.12.11"
  }
 },
 "nbformat": 4,
 "nbformat_minor": 5
}
