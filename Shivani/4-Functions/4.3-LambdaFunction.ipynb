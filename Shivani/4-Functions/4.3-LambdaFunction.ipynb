{
 "cells": [
  {
   "cell_type": "markdown",
   "id": "81a8a692",
   "metadata": {},
   "source": [
    "##### Lambda Functions in Python\n",
    "Lambda functions are small anonymous (a function without a name) functions defined using the **lambda** keyword.\n",
    "They can have any number of arguments but only one expression. \n",
    "They are commonly used for short operations or as arguments to higher-order functions.\n",
    "#### Short operations → when you just need a quick function, not a full one.\n",
    "##### As arguments to higher-order functions → when Python functions like map, filter, sorted need another function as input."
   ]
  },
  {
   "cell_type": "code",
   "execution_count": null,
   "id": "e5be46a5",
   "metadata": {},
   "outputs": [
    {
     "data": {
      "text/plain": [
       "<function __main__.<lambda>(argument)>"
      ]
     },
     "execution_count": 1,
     "metadata": {},
     "output_type": "execute_result"
    }
   ],
   "source": [
    "## Syntax for Lambda Function:\n",
    "lambda argument: expression\n",
    "\n",
    "## lambda → keyword in python that tells hey python! i am making an annonymous function.\n",
    "## arguments → input (like parameters in normal functions) (can be more than one).\n",
    "## expression → what to return (must be a single expression, not multiple lines)"
   ]
  },
  {
   "cell_type": "code",
   "execution_count": 2,
   "id": "99325142",
   "metadata": {},
   "outputs": [
    {
     "data": {
      "text/plain": [
       "6"
      ]
     },
     "execution_count": 2,
     "metadata": {},
     "output_type": "execute_result"
    }
   ],
   "source": [
    "## Addition using a normal function.\n",
    "def addition(a,b):\n",
    "    return a+b\n",
    "## calling:\n",
    "addition(2,4)"
   ]
  },
  {
   "cell_type": "code",
   "execution_count": null,
   "id": "9c4c8198",
   "metadata": {},
   "outputs": [
    {
     "data": {
      "text/plain": [
       "6"
      ]
     },
     "execution_count": 6,
     "metadata": {},
     "output_type": "execute_result"
    }
   ],
   "source": [
    "## Same addition using lambda function          ## Here, addition is just a variable assigned,\n",
    "addition=lambda a,b:a+b                         ##       lambda is keyword,  \n",
    "## calling:                                     ##       a,b are arguements,\n",
    "addition(2,4)                                   ##       a+b is expression (what to do with function).\n"
   ]
  },
  {
   "cell_type": "code",
   "execution_count": null,
   "id": "8a071912",
   "metadata": {},
   "outputs": [
    {
     "name": "stdout",
     "output_type": "stream",
     "text": [
      "True\n",
      "None\n"
     ]
    }
   ],
   "source": [
    "## Checking number is even or not\n",
    "def even(num):\n",
    "    if num%2==0:\n",
    "        return True\n",
    "## calling\n",
    "print(even(36))       # true\n",
    "print(even(35))       # none\n"
   ]
  },
  {
   "cell_type": "code",
   "execution_count": null,
   "id": "8d33aac6",
   "metadata": {},
   "outputs": [
    {
     "data": {
      "text/plain": [
       "False"
      ]
     },
     "execution_count": 15,
     "metadata": {},
     "output_type": "execute_result"
    }
   ],
   "source": [
    "## same using lambda\n",
    "even = lambda x:x%2==0\n",
    "## calling\n",
    "even(33)        # False\n",
    "even(32)        # True"
   ]
  },
  {
   "cell_type": "code",
   "execution_count": null,
   "id": "c811eb4a",
   "metadata": {},
   "outputs": [
    {
     "data": {
      "text/plain": [
       "6"
      ]
     },
     "execution_count": 17,
     "metadata": {},
     "output_type": "execute_result"
    }
   ],
   "source": [
    "## addition using 3 arguements\n",
    "addition=lambda a,b,c:a+b+c\n",
    "addition(1,2,3)"
   ]
  },
  {
   "cell_type": "code",
   "execution_count": 2,
   "id": "ea846a7c",
   "metadata": {},
   "outputs": [
    {
     "name": "stdout",
     "output_type": "stream",
     "text": [
      "[1, 4, 9, 16, 25]\n"
     ]
    }
   ],
   "source": [
    "## Power of lambda with map function. (just a overview of map function.)\n",
    "numbers = [1,2,3,4,5]\n",
    "def squares(number):\n",
    "    return number**2\n",
    "## calling\n",
    "squares(2)              # for one number only\n",
    "                        \n",
    "                        \n",
    "result = list(n**2 for n in numbers)      ## for whole list\n",
    "print(result)\n",
    "\n",
    "                        "
   ]
  },
  {
   "cell_type": "code",
   "execution_count": 3,
   "id": "9056955d",
   "metadata": {},
   "outputs": [
    {
     "data": {
      "text/plain": [
       "(1, 4, 9, 16, 25)"
      ]
     },
     "execution_count": 3,
     "metadata": {},
     "output_type": "execute_result"
    }
   ],
   "source": [
    "## Using map function -- applies a function to each item in a list (iteration).\n",
    "list(map(lambda x:x**2,numbers))           ## syntax for map = map(function,iterable)\n",
    "\n",
    "## lambda = defines a quick function (like \"square this\")\n",
    "## map = applies that function to each item in your list\n",
    "                                           "
   ]
  }
 ],
 "metadata": {
  "kernelspec": {
   "display_name": "PythonBasics",
   "language": "python",
   "name": "python3"
  },
  "language_info": {
   "codemirror_mode": {
    "name": "ipython",
    "version": 3
   },
   "file_extension": ".py",
   "mimetype": "text/x-python",
   "name": "python",
   "nbconvert_exporter": "python",
   "pygments_lexer": "ipython3",
   "version": "3.12.11"
  }
 },
 "nbformat": 4,
 "nbformat_minor": 5
}
