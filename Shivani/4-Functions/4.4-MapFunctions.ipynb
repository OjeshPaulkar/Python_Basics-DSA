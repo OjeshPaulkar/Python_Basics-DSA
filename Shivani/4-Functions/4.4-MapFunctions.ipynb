{
 "cells": [
  {
   "cell_type": "markdown",
   "id": "b40aca0d",
   "metadata": {},
   "source": [
    "#### The map() Function in Python\n",
    "The map() function applies a given function to all items in an input list (or any other iterable)\n",
    "and returns a map object (an iterator).\n",
    "This is particularly useful for transforming data in a list comprehensively.\n",
    "map function save us from writing loop again and again.\n",
    "\n",
    "In short map is helper that applies function to each item in list or any other collection."
   ]
  },
  {
   "cell_type": "code",
   "execution_count": null,
   "id": "8b10a696",
   "metadata": {},
   "outputs": [],
   "source": [
    "## Synax for map\n",
    "\n",
    "map(function,iteration)\n",
    "\n",
    "## function → what you want to do (e.g., square, double, uppercase).\n",
    "## iterable → list/tuple/etc. you want to apply it on."
   ]
  },
  {
   "cell_type": "code",
   "execution_count": 4,
   "id": "a4493c27",
   "metadata": {},
   "outputs": [
    {
     "data": {
      "text/plain": [
       "100"
      ]
     },
     "execution_count": 4,
     "metadata": {},
     "output_type": "execute_result"
    }
   ],
   "source": [
    "## Example:\n",
    "## creation of square funtion without map\n",
    "\n",
    "def square(x):\n",
    "    return x**2\n",
    "## calling \n",
    "square(10)"
   ]
  },
  {
   "cell_type": "code",
   "execution_count": 10,
   "id": "37f50065",
   "metadata": {},
   "outputs": [
    {
     "name": "stdout",
     "output_type": "stream",
     "text": [
      "[1, 4, 9, 16, 25]\n"
     ]
    }
   ],
   "source": [
    "## Same above function for list (without map)\n",
    "\n",
    "numbers = [1,2,3,4,5]\n",
    "def squares(n):\n",
    "    return n*n\n",
    "# calling\n",
    "results = list(n*n for n in numbers)\n",
    "print(results)"
   ]
  },
  {
   "cell_type": "code",
   "execution_count": 13,
   "id": "3437d20a",
   "metadata": {},
   "outputs": [
    {
     "data": {
      "text/plain": [
       "[1, 4, 9, 16, 25]"
      ]
     },
     "execution_count": 13,
     "metadata": {},
     "output_type": "execute_result"
    }
   ],
   "source": [
    "## Now using map\n",
    "\n",
    "list(map(squares, numbers))"
   ]
  },
  {
   "cell_type": "markdown",
   "id": "8c2c1988",
   "metadata": {},
   "source": [
    "### Why list is used????\n",
    "By default, map() does not give a list.\n",
    "It gives a special object called a map object (an iterator).\n",
    "something like this : <map object at 0x000001F5...>\n",
    "We wrap it in list() to convert the map object into a list so that:\n",
    "We can view all results at once.\n",
    "It becomes a normal list that can be printed, indexed, sliced, etc.\n",
    "Remember : we can convert the map object into list, tuple, set, etc."
   ]
  },
  {
   "cell_type": "code",
   "execution_count": 15,
   "id": "a5ce0684",
   "metadata": {},
   "outputs": [
    {
     "name": "stdout",
     "output_type": "stream",
     "text": [
      "[4, 16, 36, 64, 100]\n"
     ]
    }
   ],
   "source": [
    "## Map with lambda function:\n",
    "\n",
    "my_list = [2,4,6,8,10]\n",
    "even_sq = list(map(lambda n:n*n,my_list))\n",
    "print(even_sq)\n",
    "\n"
   ]
  },
  {
   "cell_type": "code",
   "execution_count": 20,
   "id": "9443ed26",
   "metadata": {},
   "outputs": [
    {
     "name": "stdout",
     "output_type": "stream",
     "text": [
      "[5, 7, 9]\n"
     ]
    }
   ],
   "source": [
    "### Map multiple iterables\n",
    "\n",
    "numbers1=[1,2,3]\n",
    "numbers2=[4,5,6]\n",
    "\n",
    "additon_of_numbers = list(map(lambda a,b:a+b, numbers1, numbers2))      ## [5,7,9]\n",
    "print(additon_of_numbers)"
   ]
  },
  {
   "cell_type": "code",
   "execution_count": null,
   "id": "1cab182f",
   "metadata": {},
   "outputs": [
    {
     "name": "stdout",
     "output_type": "stream",
     "text": [
      "(4, 10, 18)\n"
     ]
    }
   ],
   "source": [
    "numbers1=[1,2,3]\n",
    "numbers2=[4,5,6]\n",
    "\n",
    "multiply = tuple(map(lambda a,b:a*b, numbers1, numbers2))       ##(4,10,18)\n",
    "print(multiply)"
   ]
  },
  {
   "cell_type": "markdown",
   "id": "fe055b9d",
   "metadata": {},
   "source": [
    "### Whenever any function is called no need to use any brackets."
   ]
  },
  {
   "cell_type": "code",
   "execution_count": 23,
   "id": "c645d3cb",
   "metadata": {},
   "outputs": [
    {
     "data": {
      "text/plain": [
       "['Modiji', 'Amitji']"
      ]
     },
     "execution_count": 23,
     "metadata": {},
     "output_type": "execute_result"
    }
   ],
   "source": [
    "## map with dictionary :\n",
    "\n",
    "def get_name(person):\n",
    "    return person['name']\n",
    "\n",
    "people = [\n",
    "    {'name': 'Modiji', 'age': 50},\n",
    "    {'name': 'Amitji', 'age': 52}\n",
    "]\n",
    "\n",
    "## To get the names from the above dictionary we will use map:\n",
    "list(map(get_name,people))"
   ]
  },
  {
   "cell_type": "code",
   "execution_count": 26,
   "id": "3e052dfe",
   "metadata": {},
   "outputs": [
    {
     "name": "stdout",
     "output_type": "stream",
     "text": [
      "[1, 2, 3, 4, 5]\n"
     ]
    }
   ],
   "source": [
    "## map() to convert a list of strings to integers\n",
    "# Use map to convert strings to integers\n",
    "\n",
    "str_numbers = ['1', '2', '3', '4', '5']\n",
    "print(list(map(int, str_numbers)))"
   ]
  },
  {
   "cell_type": "code",
   "execution_count": null,
   "id": "8db4fd87",
   "metadata": {},
   "outputs": [
    {
     "name": "stdout",
     "output_type": "stream",
     "text": [
      "['1', '2', '3', '4', '5', '6', '7', '8', '9', '10']\n"
     ]
    }
   ],
   "source": [
    "## Use map to convert int into str:\n",
    "\n",
    "integers = [1,2,3,4,5,6,7,8,9,10]\n",
    "print(list(map(str,integers)))"
   ]
  },
  {
   "cell_type": "code",
   "execution_count": 29,
   "id": "1e9b0145",
   "metadata": {},
   "outputs": [
    {
     "name": "stdout",
     "output_type": "stream",
     "text": [
      "['APPLE', 'BANANA', 'CHERRY']\n"
     ]
    }
   ],
   "source": [
    "## Use map to uppercase the words in list:\n",
    "\n",
    "words=['apple','banana','cherry']\n",
    "print(list(map(str.upper,words)))"
   ]
  },
  {
   "cell_type": "markdown",
   "id": "e87f5d5f",
   "metadata": {},
   "source": [
    "#### Conclusion\n",
    "The map() function is a powerful tool for applying transformations to iterable data structures. It can be used with regular functions, lambda functions, and even multiple iterables, providing a versatile approach to data processing in Python. By understanding and utilizing map(), you can write more efficient and readable code."
   ]
  },
  {
   "cell_type": "markdown",
   "id": "c091e293",
   "metadata": {},
   "source": [
    "##### Quick Read:\n",
    "\n",
    "1. map() is used to apply a function to every element of an iterable (like list, tuple, etc.).\n",
    "\n",
    "2. It returns a map object (iterator), not a list.\n",
    "\n",
    "3. To see/use the results, you often wrap it with list(), tuple(), or set().\n",
    "\n",
    "4. map() is cleaner and faster than writing a for loop with append().\n",
    "\n",
    "5. Often used with lambda functions for quick, one-line transformations."
   ]
  }
 ],
 "metadata": {
  "kernelspec": {
   "display_name": "PythonBasics",
   "language": "python",
   "name": "python3"
  },
  "language_info": {
   "codemirror_mode": {
    "name": "ipython",
    "version": 3
   },
   "file_extension": ".py",
   "mimetype": "text/x-python",
   "name": "python",
   "nbconvert_exporter": "python",
   "pygments_lexer": "ipython3",
   "version": "3.12.11"
  }
 },
 "nbformat": 4,
 "nbformat_minor": 5
}
