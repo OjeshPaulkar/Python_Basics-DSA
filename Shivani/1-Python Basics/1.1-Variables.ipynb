{
 "cells": [
  {
   "cell_type": "markdown",
   "metadata": {},
   "source": [
    "### Variables\n",
    "Variables are fundamental elements in programming used to store data that can be referenced and manipulated in a program. In Python, variables are created when you assign a value to them, and they do not need explicit declaration to reserve memory space. The declaration happens automatically when you assign a value to a variable.\n",
    "\n",
    "Video Outline:\n",
    "- Introduction to Variables\n",
    "- Declaring and Assigning Variables\n",
    "- Naming Conventions\n",
    "- Understanding Variable Types\n",
    "- Type Checking and Conversion\n",
    "- Dynamic Typing\n",
    "- Practical Examples and Common Errors"
   ]
  },
  {
   "cell_type": "code",
   "execution_count": 1,
   "metadata": {},
   "outputs": [],
   "source": [
    "a=100"
   ]
  },
  {
   "cell_type": "code",
   "execution_count": 2,
   "metadata": {},
   "outputs": [
    {
     "name": "stdout",
     "output_type": "stream",
     "text": [
      "age : 32\n",
      "Height: 6.1\n",
      "Name: Krish\n"
     ]
    }
   ],
   "source": [
    "## Declaring And Assigning Variables\n",
    "\n",
    "age=32\n",
    "height=6.1\n",
    "name=\"Krish\"\n",
    "is_student=True\n",
    "\n",
    "## printing the variables\n",
    "\n",
    "print(\"age :\",age)\n",
    "print(\"Height:\",height)\n",
    "print(\"Name:\",name)"
   ]
  },
  {
   "cell_type": "code",
   "execution_count": 3,
   "metadata": {},
   "outputs": [],
   "source": [
    "## Naming Conventions\n",
    "## Variable names should be descriptive\n",
    "## They must start with a letter or an '_' and contains letter,numbers and underscores\n",
    "## variables names case sensitive\n",
    "\n",
    "#valid variable names\n",
    "\n",
    "first_name=\"KRish\"\n",
    "last_name=\"Naik\""
   ]
  },
  {
   "cell_type": "code",
   "execution_count": 4,
   "metadata": {},
   "outputs": [],
   "source": [
    "# Invalid variable names\n",
    "#2age=30\n",
    "#first-name=\"Krish\"\n",
    "##@name=\"Krish\""
   ]
  },
  {
   "cell_type": "code",
   "execution_count": 6,
   "metadata": {},
   "outputs": [
    {
     "data": {
      "text/plain": [
       "False"
      ]
     },
     "execution_count": 6,
     "metadata": {},
     "output_type": "execute_result"
    }
   ],
   "source": [
    "## case sensitivity\n",
    "name=\"Krish\"\n",
    "Name=\"Naik\"\n",
    "\n",
    "name==Name\n"
   ]
  },
  {
   "cell_type": "code",
   "execution_count": 8,
   "metadata": {},
   "outputs": [
    {
     "name": "stdout",
     "output_type": "stream",
     "text": [
      "<class 'str'>\n",
      "<class 'str'>\n",
      "<class 'bool'>\n"
     ]
    }
   ],
   "source": [
    "## Understnading Variable types\n",
    "## Python is dynamically typed,type of a variable is determined at runtime\n",
    "age=25 #int\n",
    "height=6.1 #float\n",
    "name=\"KRish\" #str\n",
    "is_student=True #bool\n",
    "\n",
    "print(type(name))\n",
    "print(type(name))\n",
    "print(type(is_student))"
   ]
  },
  {
   "cell_type": "code",
   "execution_count": 71,
   "metadata": {},
   "outputs": [
    {
     "data": {
      "text/plain": [
       "str"
      ]
     },
     "execution_count": 71,
     "metadata": {},
     "output_type": "execute_result"
    }
   ],
   "source": [
    "## Type Checking and Conversion\n",
    "\n",
    "type(height)\n",
    "type(name)\n",
    "\n",
    "#int to str\n",
    "\n",
    "age = str(age)\n",
    "type(age)\n",
    "\n",
    "\n"
   ]
  },
  {
   "cell_type": "code",
   "execution_count": 14,
   "metadata": {},
   "outputs": [
    {
     "name": "stdout",
     "output_type": "stream",
     "text": [
      "<class 'int'>\n",
      "25\n",
      "<class 'str'>\n"
     ]
    }
   ],
   "source": [
    "age=25\n",
    "print(type(age))\n",
    "\n",
    "# Type conversion\n",
    "age_str=str(age)\n",
    "print(age_str)\n",
    "print(type(age_str))"
   ]
  },
  {
   "cell_type": "code",
   "execution_count": 20,
   "metadata": {},
   "outputs": [
    {
     "name": "stdout",
     "output_type": "stream",
     "text": [
      "<class 'str'>\n",
      "<class 'int'>\n"
     ]
    },
    {
     "data": {
      "text/plain": [
       "str"
      ]
     },
     "execution_count": 20,
     "metadata": {},
     "output_type": "execute_result"
    }
   ],
   "source": [
    "age='25'\n",
    "print(type(age))\n",
    "print(type(int(age)))\n",
    "type(age)"
   ]
  },
  {
   "cell_type": "code",
   "execution_count": 21,
   "metadata": {},
   "outputs": [
    {
     "ename": "ValueError",
     "evalue": "invalid literal for int() with base 10: 'Krish'",
     "output_type": "error",
     "traceback": [
      "\u001b[31m---------------------------------------------------------------------------\u001b[39m",
      "\u001b[31mValueError\u001b[39m                                Traceback (most recent call last)",
      "\u001b[36mCell\u001b[39m\u001b[36m \u001b[39m\u001b[32mIn[21]\u001b[39m\u001b[32m, line 2\u001b[39m\n\u001b[32m      1\u001b[39m name=\u001b[33m\"\u001b[39m\u001b[33mKrish\u001b[39m\u001b[33m\"\u001b[39m\n\u001b[32m----> \u001b[39m\u001b[32m2\u001b[39m \u001b[38;5;28;43mint\u001b[39;49m\u001b[43m(\u001b[49m\u001b[43mname\u001b[49m\u001b[43m)\u001b[49m\n",
      "\u001b[31mValueError\u001b[39m: invalid literal for int() with base 10: 'Krish'"
     ]
    }
   ],
   "source": [
    "name=\"Krish\"\n",
    "int(name)"
   ]
  },
  {
   "cell_type": "code",
   "execution_count": 40,
   "metadata": {},
   "outputs": [
    {
     "name": "stdout",
     "output_type": "stream",
     "text": [
      "5\n"
     ]
    },
    {
     "data": {
      "text/plain": [
       "int"
      ]
     },
     "execution_count": 40,
     "metadata": {},
     "output_type": "execute_result"
    }
   ],
   "source": [
    "height=5.11\n",
    "type(height)\n",
    "int(height)\n",
    "height = int(height)\n",
    "print(height)\n",
    "type(height)\n"
   ]
  },
  {
   "cell_type": "code",
   "execution_count": 33,
   "metadata": {},
   "outputs": [
    {
     "data": {
      "text/plain": [
       "5.0"
      ]
     },
     "execution_count": 33,
     "metadata": {},
     "output_type": "execute_result"
    }
   ],
   "source": [
    "float(int(height))"
   ]
  },
  {
   "cell_type": "code",
   "execution_count": 20,
   "metadata": {},
   "outputs": [
    {
     "name": "stdout",
     "output_type": "stream",
     "text": [
      "10 <class 'int'>\n",
      "Hello <class 'str'>\n",
      "3.14 <class 'float'>\n"
     ]
    }
   ],
   "source": [
    "## Dynamic Typing\n",
    "## Python allows the type of a vraible to change as the program executes\n",
    "var=10 #int\n",
    "print(var,type(var))\n",
    "\n",
    "var=\"Hello\"\n",
    "print(var,type(var))\n",
    "\n",
    "var=3.14\n",
    "print(var,type(var))\n",
    "\n"
   ]
  },
  {
   "cell_type": "code",
   "execution_count": 44,
   "metadata": {},
   "outputs": [
    {
     "name": "stdout",
     "output_type": "stream",
     "text": [
      "23 <class 'int'>\n"
     ]
    }
   ],
   "source": [
    "## input\n",
    "\n",
    "age=int(input(\"What is the age\"))\n",
    "print(age,type(age))"
   ]
  },
  {
   "cell_type": "code",
   "execution_count": null,
   "metadata": {},
   "outputs": [
    {
     "name": "stdout",
     "output_type": "stream",
     "text": [
      "Sum: 5.0\n",
      "Difference: 0.0\n",
      "Product: 6.25\n",
      "Quotient: 1.0\n"
     ]
    }
   ],
   "source": [
    "### Simple calculator\n",
    "# num1 = float(input(\"Enter first number: \"))\n",
    "# num2 = float(input(\"Enter second number: \"))\n",
    "\n",
    "# sum = num1 + num2\n",
    "# difference = num1 - num2\n",
    "# product = num1 * num2\n",
    "# quotient = num1 / num2\n",
    "\n",
    "# print(\"Sum:\", sum)\n",
    "# print(\"Difference:\", difference)\n",
    "# print(\"Product:\", product)\n",
    "# print(\"Quotient:\", quotient)\n"
   ]
  },
  {
   "cell_type": "code",
   "execution_count": 66,
   "metadata": {},
   "outputs": [
    {
     "name": "stdout",
     "output_type": "stream",
     "text": [
      "Simpler Calculator\n",
      "Sum :  6\n",
      "Substraction :  -2\n",
      "Multiplication :  8\n",
      "Division :  0.5\n"
     ]
    }
   ],
   "source": [
    "print(\"Simpler Calculator\")\n",
    "number1 = int(input(\"Choose first number. \"))\n",
    "number2 = int(input(\"Choose second number. \"))\n",
    "\n",
    "add = number1 + number2\n",
    "subs = number1 - number2\n",
    "prod = number1 * number2\n",
    "div = number1 / number2\n",
    "\n",
    "print(\"Sum : \", add)\n",
    "print(\"Substraction : \", subs)\n",
    "print(\"Multiplication : \", prod)\n",
    "print(\"Division : \", div)\n"
   ]
  },
  {
   "cell_type": "code",
   "execution_count": null,
   "metadata": {},
   "outputs": [],
   "source": []
  },
  {
   "cell_type": "code",
   "execution_count": null,
   "metadata": {},
   "outputs": [],
   "source": []
  },
  {
   "cell_type": "markdown",
   "metadata": {},
   "source": [
    "### Conclusion:\n",
    "Variables are essential in Python programming for storing and manipulating data. Understanding how to declare, assign, and use variables effectively is crucial for writing functional and efficient code. Following proper naming conventions and understanding variable types will help in maintaining readability and consistency in your code."
   ]
  },
  {
   "cell_type": "markdown",
   "metadata": {},
   "source": []
  }
 ],
 "metadata": {
  "kernelspec": {
   "display_name": "Python 3",
   "language": "python",
   "name": "python3"
  },
  "language_info": {
   "codemirror_mode": {
    "name": "ipython",
    "version": 3
   },
   "file_extension": ".py",
   "mimetype": "text/x-python",
   "name": "python",
   "nbconvert_exporter": "python",
   "pygments_lexer": "ipython3",
   "version": "3.12.0"
  }
 },
 "nbformat": 4,
 "nbformat_minor": 2
}
