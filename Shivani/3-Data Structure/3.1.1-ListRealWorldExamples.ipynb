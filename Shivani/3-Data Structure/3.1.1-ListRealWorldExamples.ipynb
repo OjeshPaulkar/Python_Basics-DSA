{
 "cells": [
  {
   "cell_type": "markdown",
   "id": "c2087549",
   "metadata": {},
   "source": [
    "#### Real-World Examples Using Lists in Python\n",
    "Lists are one of the most commonly used data structures in Python, thanks to their versatility and ease of use. Here are several practical examples that illustrate their use in real-world scenarios"
   ]
  },
  {
   "cell_type": "markdown",
   "id": "6f7eb820",
   "metadata": {},
   "source": [
    "##### Example 1. Manage A To Do List\n",
    "- Create a To Do List To Keep Track OF Tasks (add an item, remove an item, set a remainder and see what tasks are remaining)"
   ]
  },
  {
   "cell_type": "code",
   "execution_count": 29,
   "id": "7de3423b",
   "metadata": {},
   "outputs": [
    {
     "name": "stdout",
     "output_type": "stream",
     "text": [
      "['Make Your Bed', 'Clean Your room', 'Pay Bills', 'Order Groceries']\n",
      "['Make Your Bed', 'Clean Your room', 'Pay Bills', 'Order Groceries', 'Meditate']\n",
      "['Clean Your room', 'Pay Bills', 'Order Groceries', 'Meditate']\n",
      "Reminder : Pay your bills\n",
      "Following tasks are remaining ['Clean Your room', 'Pay Bills', 'Order Groceries', 'Meditate']\n",
      "Following tasks are remaining:\n",
      "Clean Your room\n",
      "Pay Bills\n",
      "Order Groceries\n",
      "Meditate\n"
     ]
    }
   ],
   "source": [
    "to_do_list = [\"Make Your Bed\", \"Clean Your room\", \"Pay Bills\", \"Order Groceries\"]\n",
    "print(to_do_list)\n",
    "\n",
    "## Adding an item to the list\n",
    "## Using append\n",
    "to_do_list.append(\"Meditate\")\n",
    "print(to_do_list)\n",
    "\n",
    "## Removing an item\n",
    "to_do_list.remove(\"Make Your Bed\")\n",
    "print(to_do_list)\n",
    "\n",
    "## Setting an reminder\n",
    "if \"Pay Bills\" in to_do_list:\n",
    "    print(\"Reminder : Pay your bills\")\n",
    "\n",
    "## What tasks remaining\n",
    "print(f\"Following tasks are remaining {to_do_list}\")\n",
    "\n",
    "print(\"Following tasks are remaining:\")\n",
    "for tasks in to_do_list:\n",
    "    print(tasks)"
   ]
  },
  {
   "cell_type": "markdown",
   "id": "dee0c6fd",
   "metadata": {},
   "source": [
    "##### Example 2: Organizing Student Grades\n",
    "- Create a list to store and calculate average grades for students"
   ]
  },
  {
   "cell_type": "code",
   "execution_count": 38,
   "id": "cde0c4bc",
   "metadata": {},
   "outputs": [
    {
     "name": "stdout",
     "output_type": "stream",
     "text": [
      "[80, 56, 78, 96, 45, 37]\n",
      "[80, 56, 78, 96, 45, 37, 98.4]\n",
      "[80, 78, 96, 45, 37, 98.4]\n",
      "Average Grade:72.40\n",
      "Highest Grade: 98.4\n",
      "Lowest Grade: 37\n"
     ]
    }
   ],
   "source": [
    "students_grade = [80, 56, 78, 96, 45, 37]\n",
    "print(students_grade)\n",
    "\n",
    "## Adding a new grade\n",
    "students_grade.append(98.4)\n",
    "print(students_grade)\n",
    "\n",
    "## Removing an exiting grade\n",
    "students_grade.remove(56)\n",
    "print(students_grade)\n",
    "\n",
    "## Average of grades\n",
    "average = sum(students_grade)/len(students_grade)\n",
    "print(f\"Average Grade:{average:.2f}\")\n",
    "\n",
    "## Highest and Lowest grade\n",
    "highest_grade = max(students_grade)\n",
    "lowest_grade = min(students_grade)\n",
    "print(f\"Highest Grade: {highest_grade}\")\n",
    "print(f\"Lowest Grade: {lowest_grade}\")\n"
   ]
  },
  {
   "cell_type": "markdown",
   "id": "4c576176",
   "metadata": {},
   "source": [
    "##### Example 3: Managing An Inventory\n",
    "- Use a list to manage inventory items in a store"
   ]
  },
  {
   "cell_type": "code",
   "execution_count": 52,
   "id": "a0930033",
   "metadata": {},
   "outputs": [
    {
     "name": "stdout",
     "output_type": "stream",
     "text": [
      "Welcome to Python Fruit Shop!!\n",
      "Fruits Available: ['Apple', 'Mango', 'Banana', 'Grapes', 'Oranges']\n",
      "Fruits Available: ['Apple', 'Mango', 'Banana', 'Grapes', 'Oranges', 'Strawberries']\n",
      "['Apple', 'Mango', 'Grapes', 'Oranges', 'Strawberries']\n",
      "Strawberries are in Stock\n",
      "Inventory List:\n",
      "Apple\n",
      "Mango\n",
      "Grapes\n",
      "Oranges\n",
      "Strawberries\n"
     ]
    }
   ],
   "source": [
    "print(\"Welcome to Python Fruit Shop!!\")\n",
    "inventory = [\"Apple\", \"Mango\", \"Banana\", \"Grapes\", \"Oranges\"]\n",
    "print(f\"Fruits Available: {inventory}\")\n",
    "\n",
    "## Adding a new fruit\n",
    "inventory.append(\"Strawberries\")\n",
    "print(f\"Fruits Available: {inventory}\")\n",
    "\n",
    "## Removing Out of stock item\n",
    "inventory.remove(\"Banana\")\n",
    "\n",
    "print(inventory)\n",
    "## Checking if an item is in stock\n",
    "fruit = \"Strawberries\"\n",
    "if fruit in inventory:\n",
    "    print(f\"{fruit} are in Stock\")\n",
    "else:\n",
    "    print(f\"{fruit} are Out of Stock\")\n",
    "\n",
    "print(\"Inventory List:\")\n",
    "for item in inventory:\n",
    "    print(item)\n",
    "\n"
   ]
  },
  {
   "cell_type": "markdown",
   "id": "55f49b68",
   "metadata": {},
   "source": [
    "##### Example 4:Collecting User Feedback\n",
    "- Use a list to collect and analyze user feedback."
   ]
  },
  {
   "cell_type": "code",
   "execution_count": 5,
   "id": "44621f45",
   "metadata": {},
   "outputs": [
    {
     "name": "stdout",
     "output_type": "stream",
     "text": [
      "['Great Service', 'Excellent Experience', 'Very Satisfies', 'Could be Better', 'Not Happy with your Service']\n",
      "Positive Feedback Count: 2\n",
      "Negative Feedback Count: 2\n"
     ]
    }
   ],
   "source": [
    "feedback = [\"Great Service\", \"Excellent Experience\", \"Very Satisfies\", \"Could be Better\", \"Not Happy with your Service\"]\n",
    "print(feedback)\n",
    "\n",
    "positive_feedback_count = sum(1 for comment in feedback if \"Great\" in comment or \"Excellent\" in comment)\n",
    "print(f\"Positive Feedback Count: {positive_feedback_count}\")\n",
    "\n",
    "negative_feedback_count = sum(1 for comment in feedback if \"Not Happy\" in comment or \"Better\" in comment)\n",
    "print(f\"Negative Feedback Count: {negative_feedback_count}\")\n"
   ]
  }
 ],
 "metadata": {
  "kernelspec": {
   "display_name": "PythonBasics",
   "language": "python",
   "name": "python3"
  },
  "language_info": {
   "codemirror_mode": {
    "name": "ipython",
    "version": 3
   },
   "file_extension": ".py",
   "mimetype": "text/x-python",
   "name": "python",
   "nbconvert_exporter": "python",
   "pygments_lexer": "ipython3",
   "version": "3.12.11"
  }
 },
 "nbformat": 4,
 "nbformat_minor": 5
}
