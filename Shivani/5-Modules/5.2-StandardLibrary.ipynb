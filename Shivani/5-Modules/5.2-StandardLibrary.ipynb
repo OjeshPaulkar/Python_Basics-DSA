{
 "cells": [
  {
   "cell_type": "markdown",
   "metadata": {},
   "source": [
    "##### Standard Library Overview\n",
    "Python's Standard Library is a vast collection of modules and packages that come bundled with Python, providing a wide range of functionalities out of the box. \n",
    "\n",
    "\n",
    "### In Short\n",
    "Python comes with a collection of pre-installed modules and packages called standard libraries.\n",
    "They let you perform common tasks without installing anything extra.\n",
    "Think of them as ready-made tools for your Python programs.\n",
    "\n",
    "Here's an overview of some of the most commonly used modules and packages in the Python Standard Library.\n",
    "\n",
    "Library\tName                                                Use Case\n",
    "\n",
    "math\t                                Mathematical operations (sqrt, sin, cos, factorial, etc.)\n",
    "random\t                                Generate random numbers or select random items\n",
    "datetime\t                            Work with dates and times\n",
    "os\t                                    Interact with the operating system (files, directories)\n",
    "sys\t                                    Access system-specific parameters and functions\n",
    "json\t                                Work with JSON data\n",
    "re\t                                    Regular expressions for pattern matching\n",
    "csv\t                                    Read/write CSV files\n",
    "collections\t                            Specialized container datatypes (like deque, Counter, namedtuple)\n",
    "itertools\t                            Efficient looping and combinatorial tasks"
   ]
  },
  {
   "cell_type": "code",
   "execution_count": 1,
   "metadata": {},
   "outputs": [
    {
     "name": "stdout",
     "output_type": "stream",
     "text": [
      "array('i', [1, 2, 3, 4])\n"
     ]
    }
   ],
   "source": [
    "import array\n",
    "arr=array.array('i',[1,2,3,4])\n",
    "print(arr)"
   ]
  },
  {
   "cell_type": "code",
   "execution_count": 2,
   "metadata": {},
   "outputs": [
    {
     "name": "stdout",
     "output_type": "stream",
     "text": [
      "4.0\n",
      "3.141592653589793\n"
     ]
    }
   ],
   "source": [
    "import math\n",
    "print(math.sqrt(16))\n",
    "print(math.pi)"
   ]
  },
  {
   "cell_type": "code",
   "execution_count": null,
   "metadata": {},
   "outputs": [
    {
     "name": "stdout",
     "output_type": "stream",
     "text": [
      "5\n",
      "banana\n"
     ]
    }
   ],
   "source": [
    "## random \n",
    "\n",
    "import random\n",
    "print(random.randint(1,10))                             ## Provides a randon integer everytime uh hit execute.\n",
    "print(random.choice(['apple','banana','cherry']))       ## Provides a random choice from collection (list)."
   ]
  },
  {
   "cell_type": "code",
   "execution_count": null,
   "metadata": {},
   "outputs": [
    {
     "name": "stdout",
     "output_type": "stream",
     "text": [
      "c:\\Users\\A.C.E.R\\Downloads\n"
     ]
    }
   ],
   "source": [
    "### File And Directory Access\n",
    "\n",
    "import os\n",
    "print(os.getcwd())        ## Get current working directory"
   ]
  },
  {
   "cell_type": "code",
   "execution_count": null,
   "metadata": {},
   "outputs": [],
   "source": [
    "# os.mkdir('test_dir')       ## Creates a folder (make directory)"
   ]
  },
  {
   "cell_type": "markdown",
   "metadata": {},
   "source": [
    "## High level operations on files and collection of files.\n",
    "\n",
    "## Shutil : It’s like a toolbox for copying, moving, and deleting files and folders.\n",
    "Commonly used functions:\n",
    "1. To Copy                      shutil.copy(src, dst)\n",
    "2. To Move                      shutil.move(src, dst)\n",
    "3. To Delete                    shutil.rmtree(path)\n",
    "4. To Archive                   shutil.make_archive(base_name, format, root_dir)"
   ]
  },
  {
   "cell_type": "code",
   "execution_count": null,
   "metadata": {},
   "outputs": [
    {
     "data": {
      "text/plain": [
       "'destination.txt'"
      ]
     },
     "execution_count": 9,
     "metadata": {},
     "output_type": "execute_result"
    }
   ],
   "source": [
    "## import shutil\n",
    "## shutil.copyfile('source.txt','destination.txt')"
   ]
  },
  {
   "cell_type": "code",
   "execution_count": null,
   "metadata": {},
   "outputs": [
    {
     "name": "stdout",
     "output_type": "stream",
     "text": [
      "{\"name\": \"Krish\", \"age\": 25}\n",
      "<class 'str'>\n",
      "{'name': 'Krish', 'age': 25}\n",
      "<class 'dict'>\n"
     ]
    }
   ],
   "source": [
    "## Data Serialization\n",
    "\n",
    "import json                                         ## Helps us to work with json data\n",
    "data={'name':'Krish','age':25}\n",
    "\n",
    "json_str=json.dumps(data)                           ## Stands for “dump string”.\n",
    "print(json_str)                                     ## Converts a Python object into a JSON string.\n",
    "print(type(json_str))\n",
    "\n",
    "parsed_data=json.loads(json_str)                    ## Stands for “load string”\n",
    "print(parsed_data)                                  ## Converts a JSON string back into a Python object.\n",
    "print(type(parsed_data))\n"
   ]
  },
  {
   "cell_type": "code",
   "execution_count": null,
   "metadata": {},
   "outputs": [
    {
     "name": "stdout",
     "output_type": "stream",
     "text": [
      "['name', 'age']\n",
      "['Krish', '32']\n"
     ]
    }
   ],
   "source": [
    "## csv\n",
    "\n",
    "import csv\n",
    "\n",
    "with open('example.csv',mode='w',newline='') as file:                                   ## Summary  \n",
    "    writer=csv.writer(file)                                                             ## Write CSV: csv.writer / csv.DictWriter\n",
    "    writer.writerow(['name','age'])\n",
    "    writer.writerow(['Krish',32])\n",
    "\n",
    "with open('example.csv',mode='r') as file:                                              ## Read CSV: csv.reader / csv.DictReader\n",
    "    reader=csv.reader(file)\n",
    "    for row in reader:\n",
    "        print(row)"
   ]
  },
  {
   "cell_type": "code",
   "execution_count": null,
   "metadata": {},
   "outputs": [
    {
     "name": "stdout",
     "output_type": "stream",
     "text": [
      "2025-09-20 12:58:10.960549\n",
      "2025-09-19 12:58:10.960549\n"
     ]
    }
   ],
   "source": [
    "## datetime\n",
    "from datetime import datetime,timedelta\n",
    "\n",
    "now=datetime.now()\n",
    "print(now)\n",
    "\n",
    "yesterday=now-timedelta(days=1)                     ##  one day back time\n",
    "print(yesterday)"
   ]
  },
  {
   "cell_type": "code",
   "execution_count": 13,
   "metadata": {},
   "outputs": [
    {
     "name": "stdout",
     "output_type": "stream",
     "text": [
      "1718086104.8242216\n",
      "1718086106.82563\n"
     ]
    }
   ],
   "source": [
    "## time\n",
    "import time\n",
    "print(time.time())\n",
    "time.sleep(2)\n",
    "print(time.time())"
   ]
  },
  {
   "cell_type": "code",
   "execution_count": 7,
   "metadata": {},
   "outputs": [
    {
     "name": "stdout",
     "output_type": "stream",
     "text": [
      "123\n"
     ]
    }
   ],
   "source": [
    "## Regular expresiion\n",
    "import re\n",
    "\n",
    "pattern=r'\\d+'\n",
    "text='There are 123 apples 456'\n",
    "match=re.search(pattern,text)\n",
    "print(match.group())"
   ]
  },
  {
   "cell_type": "markdown",
   "metadata": {},
   "source": [
    "#### Conclusion\n",
    "Python's Standard Library is extensive and provides tools for almost any task you can think of, from file handling to web services, from data serialization to concurrent execution. Familiarizing yourself with the modules and packages available in the Standard Library can significantly enhance your ability to write efficient and effective Python programs."
   ]
  }
 ],
 "metadata": {
  "kernelspec": {
   "display_name": "PythonBasics",
   "language": "python",
   "name": "python3"
  },
  "language_info": {
   "codemirror_mode": {
    "name": "ipython",
    "version": 3
   },
   "file_extension": ".py",
   "mimetype": "text/x-python",
   "name": "python",
   "nbconvert_exporter": "python",
   "pygments_lexer": "ipython3",
   "version": "3.12.11"
  }
 },
 "nbformat": 4,
 "nbformat_minor": 2
}
