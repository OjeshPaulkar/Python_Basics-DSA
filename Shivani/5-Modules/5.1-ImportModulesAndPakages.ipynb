{
 "cells": [
  {
   "cell_type": "markdown",
   "metadata": {},
   "source": [
    "##### Importing Modules in Python: Modules and Packages\n",
    "In Python, modules and packages help organize and reuse code. Here's a comprehensive guide on how to import them."
   ]
  },
  {
   "cell_type": "markdown",
   "metadata": {},
   "source": [
    "1️⃣ Modules: A module is a single Python file (.py) with functions, classes, or variables.\n",
    "            Built-in modules: math, random, os, sys, datetime\n",
    "\n",
    "2️⃣ Packages :A package is a folder containing modules + __init__.py.\n",
    "    Organizes multiple modules together.\n",
    "    Example: numpy, pandas, matplotlib\n",
    "\n",
    "\n",
    "## Syntax:\n",
    "Syntax\t                                        Description\n",
    "import module_name\t                    Basic import of module/package\n",
    "import module_name as alias\t            Import with shorter alias (numpy as np)\n",
    "from module_name import func\t        Import specific function/class\n",
    "from module_name import *\t            Import everything (not recommended)"
   ]
  },
  {
   "cell_type": "code",
   "execution_count": null,
   "metadata": {},
   "outputs": [
    {
     "data": {
      "text/plain": [
       "4.0"
      ]
     },
     "execution_count": 1,
     "metadata": {},
     "output_type": "execute_result"
    }
   ],
   "source": [
    "## Syntax : import module_name (basic import of module)  \n",
    "import math\n",
    "math.sqrt(16)"
   ]
  },
  {
   "cell_type": "code",
   "execution_count": null,
   "metadata": {},
   "outputs": [
    {
     "name": "stdout",
     "output_type": "stream",
     "text": [
      "4.0\n",
      "5.0\n",
      "3.141592653589793\n"
     ]
    }
   ],
   "source": [
    "## Import a particular function/class from a module\n",
    "from math import sqrt,pi\n",
    "print(sqrt(16))\n",
    "print(sqrt(25))\n",
    "print(pi)"
   ]
  },
  {
   "cell_type": "code",
   "execution_count": null,
   "metadata": {},
   "outputs": [
    {
     "data": {
      "text/plain": [
       "array([1, 2, 3, 4])"
      ]
     },
     "execution_count": 2,
     "metadata": {},
     "output_type": "execute_result"
    }
   ],
   "source": [
    "## Importing pakage:        \n",
    "import numpy as np                      ## np is alias (short name) so everytime we don't have to write numpy we can use np.\n",
    "np.array([1,2,3,4])"
   ]
  },
  {
   "cell_type": "code",
   "execution_count": null,
   "metadata": {},
   "outputs": [
    {
     "name": "stdout",
     "output_type": "stream",
     "text": [
      "4.0\n",
      "3.141592653589793\n"
     ]
    }
   ],
   "source": [
    "## Importing everything available in math module (*)\n",
    "from math import *\n",
    "print(sqrt(16))\n",
    "print(pi)"
   ]
  },
  {
   "cell_type": "code",
   "execution_count": 14,
   "metadata": {},
   "outputs": [
    {
     "data": {
      "text/plain": [
       "5"
      ]
     },
     "execution_count": 14,
     "metadata": {},
     "output_type": "execute_result"
    }
   ],
   "source": [
    "from package.maths import addition\n",
    "addition(2,3)"
   ]
  },
  {
   "cell_type": "code",
   "execution_count": 23,
   "metadata": {},
   "outputs": [
    {
     "data": {
      "text/plain": [
       "5"
      ]
     },
     "execution_count": 23,
     "metadata": {},
     "output_type": "execute_result"
    }
   ],
   "source": [
    "from package import maths\n",
    "maths.addition(2,3)\n"
   ]
  },
  {
   "cell_type": "markdown",
   "metadata": {},
   "source": [
    "#### Creating own package in python\n",
    "Folder structure to create an own package:\n",
    "\n",
    "project_folder/\n",
    "│\n",
    "├── mypackage/          ← Your package\n",
    "│   ├── __init__.py     ← Marks folder as a package (can import modules here)\n",
    "│   ├── module1.py      ← Your first module (which will contain functions)\n",
    "│   └── module2.py      ← Your second module\n",
    "│\n",
    "└── main_script.py      ← Your main script / notebook\n",
    "\n",
    "Points:\n",
    "1. Package = folder with __init__.py + multiple modules.\n",
    "2. Module = Python file with functions/classes.\n",
    "3. Use relative imports inside your package (from .module1 import greet).\n",
    "4. Once the package is in your project folder, you can import it like any standard package\n",
    "\n",
    "### We can create sub packages also (a package under a package). That subpackage shouls also have __init__ file to make it a pakage."
   ]
  },
  {
   "cell_type": "markdown",
   "metadata": {},
   "source": [
    "#### Conclusion\n",
    "Importing modules and packages in Python allows you to organize your code, reuse functionalities, and keep your projects clean and manageable. By understanding how to import modules, specific functions, and use relative imports within packages, you can structure your Python applications more effectively."
   ]
  }
 ],
 "metadata": {
  "kernelspec": {
   "display_name": "PythonBasics",
   "language": "python",
   "name": "python3"
  },
  "language_info": {
   "codemirror_mode": {
    "name": "ipython",
    "version": 3
   },
   "file_extension": ".py",
   "mimetype": "text/x-python",
   "name": "python",
   "nbconvert_exporter": "python",
   "pygments_lexer": "ipython3",
   "version": "3.12.11"
  }
 },
 "nbformat": 4,
 "nbformat_minor": 2
}
