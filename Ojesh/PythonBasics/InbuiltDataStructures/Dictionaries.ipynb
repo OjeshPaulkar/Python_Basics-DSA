{
 "cells": [
  {
   "cell_type": "code",
   "execution_count": null,
   "id": "c20a1f16",
   "metadata": {},
   "outputs": [
    {
     "name": "stdout",
     "output_type": "stream",
     "text": [
      "{'name': 'Ojesh', 'role': 'SDET', 'score': 99}\n",
      "Ojesh\n",
      "None\n",
      "Not Available\n"
     ]
    }
   ],
   "source": [
    "## Dictionaries  {}\n",
    "\n",
    "# A dictionary is an unordered (insertion-ordered since Python 3.7), mutable mapping of hashable keys → values.\n",
    "# Literal syntax: {key: value, ...}. Keys must be hashable (immutable: numbers, strings, tuples of immutables, frozenset).\n",
    "\n",
    "d = {\"name\": \"Ojesh\", \"role\": \"SDET\", \"score\": 79}\n",
    "print(d)          # {'name': 'Ojesh', 'role': 'SDET', 'score': 79}\n",
    "print(d['name'])  # Access value by key, KeyError if key not found\n",
    "# print(s['last_name'])  - KeyError\n",
    "\n",
    "print(d.get('last_name'))  # None if key not found.  - Better to use get() method\n",
    "print(d.get('last_name', \"Not Available\"))  # Default value if key not found.\n",
    "\n"
   ]
  },
  {
   "cell_type": "code",
   "execution_count": 2,
   "id": "014848c8",
   "metadata": {},
   "outputs": [
    {
     "name": "stdout",
     "output_type": "stream",
     "text": [
      "{'x': 10, 'y': 20}\n"
     ]
    }
   ],
   "source": [
    "## Create dictionaries\n",
    "\n",
    "d1 = {}                                 # empty\n",
    "d2 = dict()                             # empty via constructor\n",
    "d3 = {\"a\": 1, \"b\": 2}                   # literal\n",
    "d4 = dict(a=1, b=2)                     # constructor with kwargs -> KeyWordArguments\n",
    "d5 = dict([(\"x\", 10), (\"y\", 20)])       # constructor with iterable of key-value pairs  -  list of tuples. - Most general\n",
    "# d5 = dict((\"x\", 10), (\"y\", 20))      # ERROR - TypeError: dict expected at most 1 argument, got 2   -> can't just take multiple tuples -> should be passed as List of tupples?\n",
    "print(d5)  # {'x': 10, 'y': 20}\n",
    "d6 = dict.fromkeys([\"a\", \"b\"], None)    # {'a': None, 'b': None'}\n",
    "\n",
    "# Important pitfall: dict.fromkeys(['a','b'], []) uses the same list object for all keys → avoid."
   ]
  },
  {
   "cell_type": "code",
   "execution_count": null,
   "id": "b674d29a",
   "metadata": {},
   "outputs": [
    {
     "name": "stdout",
     "output_type": "stream",
     "text": [
      "1\n",
      "None\n",
      "0\n",
      "1\n"
     ]
    }
   ],
   "source": [
    "## Accessing values safely\n",
    "\n",
    "# d[key] → raises KeyError if missing.\n",
    "# d.get(key, default) → returns default (or None) if key missing.  - Safe access\n",
    "\n",
    "d = {\"a\": 1}\n",
    "print(d[\"a\"])          # 1\n",
    "print(d.get(\"b\"))      # None\n",
    "print(d.get(\"b\", \"Not Found\"))   # Not Found\n",
    "print(d.get(\"a\", 0))   # 1\n",
    "print(d[\"b\"])          # KeyError. -> If not found withot get()"
   ]
  },
  {
   "cell_type": "code",
   "execution_count": null,
   "id": "d08e523d",
   "metadata": {},
   "outputs": [
    {
     "name": "stdout",
     "output_type": "stream",
     "text": [
      "{'x': 100, 'a': 2, 'c': 3}\n",
      "2\n",
      "{'x': 100, 'c': 3}\n"
     ]
    }
   ],
   "source": [
    "## Add / update / remove\n",
    "\n",
    "d =dict()\n",
    "d[\"x\"] = 100                # set / update\n",
    "d.update({\"a\": 2, \"c\": 3})  # merge in-place\n",
    "print(d)                 # {'x': 100, 'a': 2, 'c': 3}\n",
    "\n",
    "val = d.pop(\"a\")            # remove and return value (KeyError if missing)\n",
    "print(val)               # 2\n",
    "print(d)                 # {'x': 100, 'c': 3}\n",
    "val = d.pop(\"z\", None)      # safe pop with default\n",
    "\n",
    "last_item = d.popitem()     # removes & returns last inserted pair (Python 3.7+)\n",
    "\n",
    "del d[\"x\"]                  # delete (KeyError if missing)\n",
    "d.clear()                   # empty dict\n"
   ]
  },
  {
   "cell_type": "code",
   "execution_count": null,
   "id": "08bb4992",
   "metadata": {},
   "outputs": [
    {
     "name": "stdout",
     "output_type": "stream",
     "text": [
      "x 100\n",
      "a 2\n",
      "c 3\n",
      "x 100\n",
      "a 2\n",
      "c 3\n"
     ]
    }
   ],
   "source": [
    "## Iteration & view objects\n",
    "\n",
    "# Default iteration: iterate keys.\n",
    "# d.keys(), d.values(), d.items() return view objects that reflect changes.\n",
    "\n",
    "d = {'x': 100, 'a': 2, 'c': 3}\n",
    "\n",
    "for k in d:            # keys\n",
    "    print(k, d[k])     # k -> keys,  d[k] -> value of k key\n",
    "\n",
    "for k, v in d.items(): # key-value tuples - list\n",
    "    print(k, v)\n",
    "\n"
   ]
  },
  {
   "cell_type": "code",
   "execution_count": null,
   "id": "027370ce",
   "metadata": {},
   "outputs": [],
   "source": [
    "## Common & useful methods (cheat-sheet)\n",
    "\n",
    "\"\"\"\n",
    "d.keys(), d.values(), d.items()\n",
    "d.get(k, default), d.setdefault(k, default)\n",
    "d.pop(k[, default]), d.popitem()\n",
    "d.update(other)\n",
    "d.clear()\n",
    "dict.copy() (shallow copy) — use copy.deepcopy() for nested structures\n",
    "\"\"\""
   ]
  },
  {
   "cell_type": "code",
   "execution_count": 25,
   "id": "0abcb47d",
   "metadata": {},
   "outputs": [
    {
     "name": "stdout",
     "output_type": "stream",
     "text": [
      "student1:{'name': 'luffy', 'age': 21, 'grade': 'D'}\n",
      "name:luffy\n",
      "age:21\n",
      "grade:D\n",
      "student2:{'name': 'sanji', 'age': 24, 'grade': 'B'}\n",
      "name:sanji\n",
      "age:24\n",
      "grade:B\n"
     ]
    }
   ],
   "source": [
    "## Nested Dictionaries\n",
    "\n",
    "students = dict()\n",
    "students = {\n",
    "    \"student1\" : {\"name\" : \"luffy\", \"age\" : 21, \"grade\": \"D\"},\n",
    "    \"student2\" : {\"name\" : \"sanji\", \"age\" : 24, \"grade\": \"B\"}\n",
    "    }\n",
    "students\n",
    "\n",
    "## Iterating over the nested Dictonary\n",
    "\n",
    "for nested_key, nested_value in students.items():\n",
    "    print(f\"{nested_key}:{nested_value}\")\n",
    "    for key,value in nested_value.items():\n",
    "        print(f\"{key}:{value}\")"
   ]
  },
  {
   "cell_type": "code",
   "execution_count": 19,
   "id": "983441f1",
   "metadata": {},
   "outputs": [
    {
     "name": "stdout",
     "output_type": "stream",
     "text": [
      "{1: 1, 2: 4, 3: 9, 4: 16, 5: 25, 6: 36, 7: 49, 8: 64, 9: 81, 10: 100, 11: 121, 12: 144, 13: 169, 14: 196, 15: 225, 16: 256, 17: 289, 18: 324, 19: 361}\n",
      "{2: 4, 4: 16, 6: 36, 8: 64, 10: 100, 12: 144, 14: 196, 16: 256, 18: 324}\n"
     ]
    }
   ],
   "source": [
    "## Dictionarie Comprehension\n",
    "\n",
    "squares = {x:x**2 for x in range(1,20)}\n",
    "print(squares)\n",
    "\n",
    "# Conditional Comprehension\n",
    "even_square = {x:x**2 for x in range(1,20) if x%2==0}\n",
    "print(even_square)"
   ]
  },
  {
   "cell_type": "code",
   "execution_count": null,
   "id": "d39d75dc",
   "metadata": {},
   "outputs": [
    {
     "name": "stdout",
     "output_type": "stream",
     "text": [
      "{1: 1, 2: 1, 3: 2, 4: 2, 5: 3, 6: 2, 7: 1, 8: 4, 9: 2}\n",
      "[1, 2, 3, 4, 5, 6, 7, 8, 9]\n"
     ]
    }
   ],
   "source": [
    "### Use dictionaire to count the frequency of elements in the list\n",
    "\n",
    "numbers = [1,2,3,3,4,4,5,5,5,6,6,7,8,8,8,8,9,9]\n",
    "\n",
    "frequency = {}\n",
    "\n",
    "for number in numbers:\n",
    "    if number in frequency:\n",
    "        frequency[number] += 1\n",
    "    else:\n",
    "        frequency[number] =1\n",
    "print(frequency)\n",
    "\n",
    "key_list = list(frequency) # creates a list of all keys present in the dictionarie\n",
    "print(key_list)"
   ]
  },
  {
   "cell_type": "code",
   "execution_count": 34,
   "id": "000dc42d",
   "metadata": {},
   "outputs": [
    {
     "data": {
      "text/plain": [
       "[0, 1, 8, 27, 64]"
      ]
     },
     "execution_count": 34,
     "metadata": {},
     "output_type": "execute_result"
    }
   ],
   "source": [
    "cubes = list()\n",
    "for x in range(5):\n",
    "    cubes.append(x**3)\n",
    "cubes"
   ]
  },
  {
   "cell_type": "code",
   "execution_count": 35,
   "id": "1310be6f",
   "metadata": {},
   "outputs": [
    {
     "data": {
      "text/plain": [
       "\"\\nMerge: merged = {**d1, **d2} (older versions) or d1 | d2 (3.9+)\\nCopy: d2 = d.copy()\\nKeys list: list(d) or list(d.keys())\\nItems: for k,v in d.items(): ...\\nConvert list→dict: {x['id']: x for x in L}\\n\""
      ]
     },
     "execution_count": 35,
     "metadata": {},
     "output_type": "execute_result"
    }
   ],
   "source": [
    "## Quick References --- one liners\n",
    "\n",
    "\"\"\"\n",
    "Merge: merged = {**d1, **d2} (older versions) or d1 | d2 (3.9+)\n",
    "Copy: d2 = d.copy()\n",
    "Keys list: list(d) or list(d.keys())\n",
    "Items: for k,v in d.items(): ...\n",
    "Convert list→dict: {x['id']: x for x in L}\n",
    "\"\"\""
   ]
  }
 ],
 "metadata": {
  "kernelspec": {
   "display_name": "PythonBasics",
   "language": "python",
   "name": "python3"
  },
  "language_info": {
   "codemirror_mode": {
    "name": "ipython",
    "version": 3
   },
   "file_extension": ".py",
   "mimetype": "text/x-python",
   "name": "python",
   "nbconvert_exporter": "python",
   "pygments_lexer": "ipython3",
   "version": "3.12.11"
  }
 },
 "nbformat": 4,
 "nbformat_minor": 5
}
