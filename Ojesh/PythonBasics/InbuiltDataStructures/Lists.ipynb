{
 "cells": [
  {
   "cell_type": "code",
   "execution_count": null,
   "id": "22ff29cd",
   "metadata": {},
   "outputs": [
    {
     "name": "stdout",
     "output_type": "stream",
     "text": [
      "[1, 2, 2, 3]\n"
     ]
    }
   ],
   "source": [
    "#Lists\n",
    "# Lists are ordered, mutable collections of items. \n",
    "# - Mutable means that the items in a list can be changed after the list is created. \n",
    "# - Ordered means that the items have a defined order, and that order will not change unless you explicitly change it. \n",
    "# They can contain items of different data types, including other lists.\n",
    "# Lists are defined using square brackets [] and items are separated by commas.\n",
    "\n"
   ]
  },
  {
   "cell_type": "code",
   "execution_count": null,
   "id": "d0c5323d",
   "metadata": {},
   "outputs": [],
   "source": [
    "'''\n",
    "2. Key Properties\n",
    "Ordered: Maintains insertion order.\n",
    "Mutable: You can change elements after creation.\n",
    "Indexable & Slicable: Access via index or slicing.\n",
    "Allow Duplicates: [1, 2, 2, 3] is valid.\n",
    "Nested: Lists inside lists. [[1, 2, 3], [4, 5, 6], [7, 8, 9]]\n",
    "'''"
   ]
  },
  {
   "cell_type": "code",
   "execution_count": 9,
   "id": "8d27c738",
   "metadata": {},
   "outputs": [
    {
     "name": "stdout",
     "output_type": "stream",
     "text": [
      "3\n",
      "3\n",
      "1\n",
      "6\n",
      "2\n",
      "[0, 4, 16, 36, 64, 100, 144, 196, 256, 324]\n",
      "[[1, 'a'], [1, 'b'], [1, 'c'], [1, 'd'], [2, 'a'], [2, 'b'], [2, 'c'], [2, 'd'], [3, 'a'], [3, 'b'], [3, 'c'], [3, 'd'], [4, 'a'], [4, 'b'], [4, 'c'], [4, 'd']]\n"
     ]
    },
    {
     "data": {
      "text/plain": [
       "[5, 5, 6, 4, 13]"
      ]
     },
     "execution_count": 9,
     "metadata": {},
     "output_type": "execute_result"
    }
   ],
   "source": [
    "\n",
    "### LIST CREATION\n",
    "\n",
    "# Empty list\n",
    "lst = []\n",
    "\n",
    "# With elements\n",
    "lst = [1, 2, 3]\n",
    "lst1 = [1,2,3, \"Python\"]\n",
    "\n",
    "print(len(lst))       # 3\n",
    "print(max(lst))       # 3      # can't use for lst1 -> ERROR - TypeError: '>' not supported between instances of 'str' and 'int'\n",
    "print(min(lst))       # 1\n",
    "print(sum(lst))       # 6\n",
    "\n",
    "# Using list() constructor\n",
    "lst = list((1, 2, 3))   # [1,2,3]\n",
    "\n",
    "# Nested list\n",
    "nested = [[1, 2], [3, 4]]\n",
    "print(nested[0][1]) # Output : 2\n",
    "\n",
    "# List comprehension\n",
    "nums = [10, 20, 30]\n",
    "\n",
    "squares = [x*x for x in nums]    #[ \"expression\" \"for item in iterable\" \"if condition\"]\n",
    "squares\n",
    "\n",
    "even_squares = [x**2 for x in range(20) if x%2 == 0]\n",
    "even_squares\n",
    "print(even_squares)\n",
    "\n",
    "# Nested List Comprehension.       -----   Not Understandable at the moment\n",
    "matrix = [[1, 2, 3], [4, 5, 6], [7, 8, 9]]\n",
    "flattened = [num for row in matrix for num in row]\n",
    "flattened  # [1, 2, 3, 4, 5, 6, 7, 8, 9]\n",
    "\n",
    "#Example - List Comprehension with multiple loops\n",
    "list1 = [1,2,3,4]\n",
    "list2 = ['a','b','c','d']\n",
    "\n",
    "pair = [[x,y] for x in list1 for y in list2]\n",
    "print(pair)\n",
    "\n",
    "#Example - List Comprehension with function calls\n",
    "words = [\"hello\", \"world\", \"python\", \"list\", \"comprehension\"]\n",
    "length = [len(word) for word in words]\n",
    "length\n"
   ]
  },
  {
   "cell_type": "code",
   "execution_count": null,
   "id": "439db0b7",
   "metadata": {},
   "outputs": [
    {
     "name": "stdout",
     "output_type": "stream",
     "text": [
      "10\n",
      "50\n",
      "[20, 30, 40]\n",
      "[10, 20, 30]\n",
      "[50, 40, 30, 20, 10]\n",
      "[10, 30, 50]\n",
      "[50, 30, 10]\n"
     ]
    }
   ],
   "source": [
    "### ACCESSING ELEMENTS\n",
    "\n",
    "lst = [10, 20, 30, 40, 50]\n",
    "\n",
    "# Indexing\n",
    "print(lst[0])   # 10\n",
    "print(lst[-1])  # 50 (last element)\n",
    "\n",
    "# Slicing\n",
    "print(lst[1:4])   # [20, 30, 40] - Will Not include index 4\n",
    "print(lst[:3])    # [10, 20, 30] - From start to index 2 - not include index 3\n",
    "print(lst[::-1])  # [50, 40, 30, 20, 10] (reverse)\n",
    "print(lst[::2])   # [10,30,50] - :: -> Works as Step\n",
    "print(lst[::-2])  # [50, 30, 10] (reverse with Step 2)\n"
   ]
  },
  {
   "cell_type": "code",
   "execution_count": null,
   "id": "d827630f",
   "metadata": {},
   "outputs": [],
   "source": [
    "## UPDATING/MODIFYING ELEMENT.     - MUTABLE  - WITH INDEXING\n",
    "\n",
    "lst = [10, 20, 30]\n",
    "lst[1] = 200\n",
    "print(lst)  # [10, 200, 30]"
   ]
  },
  {
   "cell_type": "code",
   "execution_count": null,
   "id": "ae1586bf",
   "metadata": {},
   "outputs": [],
   "source": [
    "## ADDING ELEMENTS\n",
    "\n",
    "lst = [1, 2]\n",
    "\n",
    "lst.append(3)          # Add at end → [1, 2, 3]\n",
    "lst.insert(1, 5)       # Insert at index → [1, 5, 2, 3]\n",
    "lst.extend([6, 7, 8])  # Extend with iterable → [1, 5, 2, 3, 6, 7, 8]"
   ]
  },
  {
   "cell_type": "code",
   "execution_count": null,
   "id": "610a88f7",
   "metadata": {},
   "outputs": [
    {
     "name": "stdout",
     "output_type": "stream",
     "text": [
      "[20]\n",
      "[]\n"
     ]
    }
   ],
   "source": [
    "## REMOVEING ELEMENTS\n",
    "\n",
    "lst = [10, 20, 30, 20, 40]\n",
    "\n",
    "lst.remove(20)   # Removes first occurrence of 20\n",
    "lst.pop()        # Removes last element (40)\n",
    "lst.pop(0)       # Removes element at index 0\n",
    "del lst[0]       # Delete element at index\n",
    "print(lst)\n",
    "lst.clear()      # Remove all elements\n",
    "print(lst)\n",
    "del lst          # Delete entire list variable (Use with caution)    "
   ]
  },
  {
   "cell_type": "code",
   "execution_count": null,
   "id": "922d1a4f",
   "metadata": {},
   "outputs": [
    {
     "name": "stdout",
     "output_type": "stream",
     "text": [
      "True\n",
      "False\n",
      "1\n",
      "2\n",
      "0\n"
     ]
    }
   ],
   "source": [
    "## Searching And Checking\n",
    "\n",
    "lst = [1, 2, 3, 2, 4]\n",
    "\n",
    "print(2 in lst)          # True\n",
    "print(5 in lst)          # False\n",
    "print(lst.index(2))      # 1 (first occurrence)\n",
    "print(lst.count(2))      # 2 (No. of times 2 is present)\n",
    "print(lst.count(5))      # 0 (No error if element is not present in list - gives 0)\n"
   ]
  },
  {
   "cell_type": "code",
   "execution_count": null,
   "id": "6120ef40",
   "metadata": {},
   "outputs": [
    {
     "data": {
      "text/plain": [
       "[1, 2, 4, 9]"
      ]
     },
     "execution_count": 27,
     "metadata": {},
     "output_type": "execute_result"
    }
   ],
   "source": [
    "## Sorting & Reversing\n",
    "\n",
    "lst = [4, 2, 9, 1]\n",
    "\n",
    "lst.sort()              # Ascending → [1, 2, 4, 9]\n",
    "lst.sort(reverse=True)  # Descending → [9, 4, 2, 1]\n",
    "lst.reverse()           # Just reverse order\n",
    "lst"
   ]
  },
  {
   "cell_type": "code",
   "execution_count": 1,
   "id": "0d17f74c",
   "metadata": {},
   "outputs": [
    {
     "data": {
      "text/plain": [
       "[1, 2, 3]"
      ]
     },
     "execution_count": 1,
     "metadata": {},
     "output_type": "execute_result"
    }
   ],
   "source": [
    "## Copying Lists\n",
    "\n",
    "lst = [1, 2, 3]\n",
    "\n",
    "copy1 = lst.copy()           # Shallow copy\n",
    "copy2 = list(lst)            # Another way\n",
    "copy3 = lst[:]               # Slicing copy\n",
    "copy3"
   ]
  },
  {
   "cell_type": "code",
   "execution_count": null,
   "id": "957ef461",
   "metadata": {},
   "outputs": [
    {
     "name": "stdout",
     "output_type": "stream",
     "text": [
      "10\n",
      "20\n",
      "30\n",
      "0:10\n",
      "1:20\n",
      "2:30\n"
     ]
    },
    {
     "data": {
      "text/plain": [
       "[0, 4, 16, 36, 64, 100, 144, 196, 256, 324]"
      ]
     },
     "execution_count": 2,
     "metadata": {},
     "output_type": "execute_result"
    }
   ],
   "source": [
    "## Looping Through Lists\n",
    "\n",
    "nums = [10, 20, 30]\n",
    "\n",
    "# For loop\n",
    "for n in nums:\n",
    "    print(n)\n",
    "\n",
    "# With index\n",
    "for i, val in enumerate(nums):\n",
    "    print(f\"{i}:{val}\")\n",
    "\n",
    "# List comprehension\n",
    "squares = [x*x for x in nums]    # [\"expression\" \"for item in iterable\" \"if condition\"]\n",
    "squares\n",
    "\n",
    "even_squares = [x**2 for x in range(20) if x%2 == 0]\n",
    "even_squares\n"
   ]
  },
  {
   "cell_type": "code",
   "execution_count": 32,
   "id": "32457484",
   "metadata": {},
   "outputs": [
    {
     "data": {
      "text/plain": [
       "'\\nList Methods (Cheat Sheet) \\n\\n--Method--\\t           --Description--\\nappend(x)\\t        Add element at end\\nextend(iterable)\\tAdd multiple elements\\ninsert(i, x)\\t    Insert at index (index,value)\\nremove(x)\\t        Remove first occurrence\\npop([i])\\t        Remove at index (default last)\\nclear()\\t            Remove all elements\\nindex(x)\\t        Return index of first occurrence\\ncount(x)\\t        Count occurrences\\nsort()\\t            Sort in ascending order\\nreverse()\\t        Reverse order\\ncopy()\\t            Shallow copy\\n\\n'"
      ]
     },
     "execution_count": 32,
     "metadata": {},
     "output_type": "execute_result"
    }
   ],
   "source": [
    "\"\"\"\n",
    "List Methods (Cheat Sheet) \n",
    "\n",
    "--Method--\t           --Description--\n",
    "append(x)\t        Add element at end\n",
    "extend(iterable)\tAdd multiple elements\n",
    "insert(i, x)\t    Insert at index (index,value)\n",
    "remove(x)\t        Remove first occurrence\n",
    "pop([i])\t        Remove at index (default last)\n",
    "clear()\t            Remove all elements\n",
    "index(x)\t        Return index of first occurrence\n",
    "count(x)\t        Count occurrences\n",
    "sort()\t            Sort in ascending order\n",
    "reverse()\t        Reverse order\n",
    "copy()\t            Shallow copy\n",
    "\n",
    "\"\"\""
   ]
  },
  {
   "cell_type": "code",
   "execution_count": null,
   "id": "69a268ac",
   "metadata": {},
   "outputs": [],
   "source": [
    "\"\"\"\n",
    "----Performance Tips\n",
    "Use list comprehension instead of for loops (faster, cleaner).\n",
    "If you need fast lookups, use a set instead of list.\n",
    "Use enumerate() when you need index + value.\n",
    "Avoid repeatedly inserting/removing from the beginning of a list (slow) → use collections.deque.\n",
    "\n",
    "\"\"\""
   ]
  }
 ],
 "metadata": {
  "kernelspec": {
   "display_name": "PythonBasics",
   "language": "python",
   "name": "python3"
  },
  "language_info": {
   "codemirror_mode": {
    "name": "ipython",
    "version": 3
   },
   "file_extension": ".py",
   "mimetype": "text/x-python",
   "name": "python",
   "nbconvert_exporter": "python",
   "pygments_lexer": "ipython3",
   "version": "3.12.11"
  }
 },
 "nbformat": 4,
 "nbformat_minor": 5
}
