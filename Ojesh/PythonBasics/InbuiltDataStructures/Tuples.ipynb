{
 "cells": [
  {
   "cell_type": "code",
   "execution_count": null,
   "id": "8cad9be2",
   "metadata": {},
   "outputs": [
    {
     "name": "stdout",
     "output_type": "stream",
     "text": [
      "(1, 2, 3, 3)\n",
      "<class 'tuple'>\n"
     ]
    }
   ],
   "source": [
    "## tuples\n",
    "\n",
    "# An ordered, immutable sequence of elements.\n",
    "# Defined using round brackets () or tuple() constructor.\n",
    "# Can contain heterogeneous data and Duplicates (strings, numbers, even other tuples).\n",
    "# Like lists, but cannot be modified (immutable).\n",
    "\n",
    "t = (1, 2, 3, 3)\n",
    "print(t)\n",
    "print(type(t))"
   ]
  },
  {
   "cell_type": "code",
   "execution_count": null,
   "id": "5bb0fe00",
   "metadata": {},
   "outputs": [
    {
     "name": "stdout",
     "output_type": "stream",
     "text": [
      "<class 'tuple'>\n"
     ]
    }
   ],
   "source": [
    "## Creating Tupples\n",
    "\n",
    "t1 = ()                    # empty tuple\n",
    "t2 = (1, 2, 3)             # with elements\n",
    "t3 = 1, 2, 3               # tuple without brackets  -- parentheses are optional - but recommended for clarity. - this is called tuple packing\n",
    "t4 = tuple([1, 2, 3])      # from list - using tupple constructor\n",
    "#t6 = tuple(1,2,3,4,5)      ERROR ->  TypeError: tuple expected at most 1 argument, got 5 -> Have to create using List if we want to use tupple constructor - tupple([])\n",
    "t5 = (\"a\",)                # single element (note comma!) -- without comma, it's just a string in parentheses.\n",
    "print(type(t5))            # <class 'tuple'>\n"
   ]
  },
  {
   "cell_type": "code",
   "execution_count": null,
   "id": "2d722a42",
   "metadata": {},
   "outputs": [],
   "source": [
    "## Accessing Elements\n",
    "\n",
    "t = (10, 20, 30, 40)\n",
    "\n",
    "print(t[0])     # 10         -> with Indexing\n",
    "print(t[-1])    # 40\n",
    "print(t[1:3])   # (20, 30)   -> with Slicing   -> All slicing features works same as in for List\n",
    "\n",
    "for x in t:\n",
    "    print(x)   # iterating to each tupple\n"
   ]
  },
  {
   "cell_type": "code",
   "execution_count": null,
   "id": "37ef65e5",
   "metadata": {},
   "outputs": [],
   "source": [
    "## Tupple Operations\n",
    "\n",
    "t = (1, 2, 3)\n",
    " # Same operations as we can do in SETS\n",
    "print(len(t))       # 3\n",
    "print(max(t))       # 3\n",
    "print(min(t))       # 1\n",
    "print(sum(t))       # 6\n",
    "\n",
    "# tupple specefic operations\n",
    "t2 = (4, 5)\n",
    "print(t + t2)       # concatenation → (1,2,3,4,5)\n",
    "print(t * 3)        # repetition → (1,2,3,1,2,3,1,2,3)\n",
    "print(2 in t)       # True\n"
   ]
  },
  {
   "cell_type": "code",
   "execution_count": null,
   "id": "220780b0",
   "metadata": {},
   "outputs": [
    {
     "name": "stdout",
     "output_type": "stream",
     "text": [
      "(10, 20, 30)\n",
      "12.5 77.2\n",
      "12.5 : 77.2\n",
      "1\n",
      "[2, 3, 4]\n",
      "5\n",
      "1 [2, 3, 4] 5"
     ]
    }
   ],
   "source": [
    "## Tuple Packing & Unpacking\n",
    "\n",
    "# Packing\n",
    "coords = (12.5, 77.2)\n",
    "tp = 10,20,30        # By default will store as tupple\n",
    "print(tp)            # (10, 20, 30)\n",
    "\n",
    "# Unpacking\n",
    "x, y = coords\n",
    "print(x, y)             # 12.5 77.2\n",
    "print (f\"{x} : {y}\")   # 12.5 : 77.2    -> String Formating\n",
    "\n",
    "##\n",
    "t = (1, 2, 3, 4, 5)\n",
    "a, *mid, e = t\n",
    "print(a)\n",
    "print(mid)    # [2, 3, 4]\n",
    "print(e)\n",
    "\n",
    "print(a,mid,e, end=\" \")  # 1 [2, 3, 4] 5.   - print in same line - using end=\" \"  - by default end=\"\\n\"\n",
    "\n",
    "\n"
   ]
  },
  {
   "cell_type": "code",
   "execution_count": null,
   "id": "bbc98fac",
   "metadata": {},
   "outputs": [],
   "source": [
    "## Immutability & performance\n",
    "# Tuples are immutable → no append, remove, etc.\n",
    "# Slightly faster and smaller than lists, so use when:\n",
    "# Data should never change (constants, coordinates, dates)\n",
    "# You want to use as dict keys / set elements (lists can’t be dict keys / set elements, tuples can)\n",
    "\n",
    "my_dict = { (2025, 9, 13): \"Today\" }  # tuple as key\n",
    "\n",
    "# You want to ensure data integrity (e.g. function arguments)"
   ]
  },
  {
   "cell_type": "code",
   "execution_count": 12,
   "id": "9530b086",
   "metadata": {},
   "outputs": [
    {
     "name": "stdout",
     "output_type": "stream",
     "text": [
      "2\n",
      "3\n"
     ]
    }
   ],
   "source": [
    "## Methods available. - Tuples only have 2 built-in methods\n",
    "\n",
    "t = (1, 2, 2, 3)\n",
    "print(t.count(2))   # 2\n",
    "print(t.index(3))   # 3\n"
   ]
  },
  {
   "cell_type": "code",
   "execution_count": null,
   "id": "48aa5ae5",
   "metadata": {},
   "outputs": [
    {
     "name": "stdout",
     "output_type": "stream",
     "text": [
      "Python\n",
      "('Ojesh', 32, ['Python', 'SDET', 'DevOps'])\n"
     ]
    }
   ],
   "source": [
    "## Nesting and mixed data\n",
    "\n",
    "person = (\"Ojesh\", 32, [\"Python\", \"SDET\"])\n",
    "print(person[2][0])  # 'Python'\n",
    "# ⚠ inner list is still mutable even though tuple is immutable\n",
    "person[2].append(\"DevOps\")\n",
    "print(person)  # ('Ojesh', 32, ['Python', 'SDET', 'DevOps'])\n"
   ]
  },
  {
   "cell_type": "code",
   "execution_count": 14,
   "id": "925fcd66",
   "metadata": {},
   "outputs": [
    {
     "data": {
      "text/plain": [
       "'\\nReal-World Use Cases\\n✅ Fixed structured data (x,y coordinates, RGB colors, start/end dates)\\n✅ Multiple return values from functions\\n✅ As keys in dicts when composite key needed (id, type, version)\\n✅ Improves safety in code → prevents accidental changes\\n✅ Slight speed/memory boost vs list when data is read-only\\n'"
      ]
     },
     "execution_count": 14,
     "metadata": {},
     "output_type": "execute_result"
    }
   ],
   "source": [
    "\"\"\"\n",
    "Real-World Use Cases\n",
    "✅ Fixed structured data (x,y coordinates, RGB colors, start/end dates)\n",
    "✅ Multiple return values from functions\n",
    "✅ As keys in dicts when composite key needed (id, type, version)\n",
    "✅ Improves safety in code → prevents accidental changes\n",
    "✅ Slight speed/memory boost vs list when data is read-only\n",
    "\"\"\""
   ]
  },
  {
   "cell_type": "code",
   "execution_count": 15,
   "id": "ba267545",
   "metadata": {},
   "outputs": [
    {
     "name": "stdout",
     "output_type": "stream",
     "text": [
      "1 9\n"
     ]
    }
   ],
   "source": [
    "## Examples\n",
    "\n",
    "# Return multiple values\n",
    "def min_max(nums):\n",
    "    return min(nums), max(nums)\n",
    "\n",
    "lo, hi = min_max([4, 7, 1, 9])\n",
    "print(lo, hi)  # 1 9\n",
    "\n",
    "# Using tuples as dict keys\n",
    "records = {\n",
    "    (\"John\", \"QA\"): [90, 88],\n",
    "    (\"Amy\", \"Dev\"): [92, 95]\n",
    "}\n"
   ]
  },
  {
   "cell_type": "code",
   "execution_count": null,
   "id": "85445dbb",
   "metadata": {},
   "outputs": [
    {
     "name": "stdout",
     "output_type": "stream",
     "text": [
      "(1, 2, 3, 4)\n"
     ]
    }
   ],
   "source": [
    "## Tips\n",
    "# To “modify” a tuple → convert to list → change → back to tuple.\n",
    "\n",
    "t = (1, 2, 3)\n",
    "lst = list(t)\n",
    "lst.append(4)\n",
    "t = tuple(lst)\n",
    "print(t)"
   ]
  }
 ],
 "metadata": {
  "kernelspec": {
   "display_name": "PythonBasics",
   "language": "python",
   "name": "python3"
  },
  "language_info": {
   "codemirror_mode": {
    "name": "ipython",
    "version": 3
   },
   "file_extension": ".py",
   "mimetype": "text/x-python",
   "name": "python",
   "nbconvert_exporter": "python",
   "pygments_lexer": "ipython3",
   "version": "3.12.11"
  }
 },
 "nbformat": 4,
 "nbformat_minor": 5
}
