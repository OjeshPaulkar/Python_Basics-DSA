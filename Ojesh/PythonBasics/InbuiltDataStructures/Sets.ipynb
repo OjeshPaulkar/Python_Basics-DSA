{
 "cells": [
  {
   "cell_type": "code",
   "execution_count": null,
   "id": "a68428ef",
   "metadata": {},
   "outputs": [
    {
     "name": "stdout",
     "output_type": "stream",
     "text": [
      "{1, 2, 3, 4, 5}\n",
      "<class 'set'>\n"
     ]
    }
   ],
   "source": [
    "##  Sets. {}\n",
    "# Sets are unordered collections of unique elements. They are mutable, meaning you can add or remove elements after creation. \n",
    "# Sets are useful for membership testing, removing duplicates from a list, \n",
    "# and performing mathematical set operations like union, intersection, difference, and symmetric difference.\n",
    "# but they do not support indexing or slicing since they are unordered.\n",
    "# Defined using curly braces {} or set() constructor.\n",
    "\n",
    "## Key Features of Sets:\n",
    "# Mebership Testing - in, not in - O(1) average time complexity - very fast - Hashing\n",
    "# Mathematical Set Operations - union, intersection, difference, symmetric difference\n",
    "# Set Comprehensions - Similar to list comprehensions but for sets\n",
    "# Example\n",
    "my_set = {1, 2, 3, 4, 5, 2}\n",
    "print(my_set)  # {1, 2, 3, 4, 5}    -> Removed Duplicate 2\n",
    "print(type(my_set))  # <class 'set'>"
   ]
  },
  {
   "cell_type": "code",
   "execution_count": null,
   "id": "93cc5b87",
   "metadata": {},
   "outputs": [],
   "source": [
    "\"\"\"\n",
    "-----Key Properties\n",
    "* Unordered → No index-based access (cant do my_set[0]).\n",
    "* Unique Elements → Duplicates are automatically removed.\n",
    "* Mutable → You can add/remove elements.\n",
    "* Heterogeneous → Can store different data types (numbers, strings, tuples).\n",
    "* Not Hashable Types → You cant store lists/dicts inside sets. \n",
    "\"\"\""
   ]
  },
  {
   "cell_type": "code",
   "execution_count": null,
   "id": "359757e1",
   "metadata": {},
   "outputs": [
    {
     "name": "stdout",
     "output_type": "stream",
     "text": [
      "{1, 2, 3}\n"
     ]
    },
    {
     "data": {
      "text/plain": [
       "{'h', 'n', 'o', 'p', 't', 'y'}"
      ]
     },
     "execution_count": 6,
     "metadata": {},
     "output_type": "execute_result"
    }
   ],
   "source": [
    "## Creating Sets\n",
    "\n",
    "# Empty set (must use set() constructor always, {} creates a dict)           ------IMPORTANT TO REMEMBER------\n",
    "s = set()\n",
    "\n",
    "# With elements\n",
    "s = {1, 2, 3}\n",
    "\n",
    "# From list/string\n",
    "s = set([1, 2, 3, 2])\n",
    "print(s)    # {1, 2, 3} - Removed Duplicate\n",
    "s2 = set(\"python\")   # {'h', 'n', 'o', 'p', 't', 'y'}  - UnOrdered\n",
    "s2\n"
   ]
  },
  {
   "cell_type": "code",
   "execution_count": null,
   "id": "80a268d6",
   "metadata": {},
   "outputs": [],
   "source": [
    "## Adding Element\n",
    "\n",
    "s = {1, 2}\n",
    "\n",
    "s.add(3)       # Add single element → {1, 2, 3}\n",
    "s.update([4,5,6])  # Add multiple elements → {1,2,3,4,5,6}"
   ]
  },
  {
   "cell_type": "code",
   "execution_count": null,
   "id": "6eab830f",
   "metadata": {},
   "outputs": [],
   "source": [
    "## Removing Element\n",
    "\n",
    "s = {1, 2, 3, 4}\n",
    "\n",
    "s.remove(3)    # Removes 3 -- (Error if not found)\n",
    "s.discard(5)   # Removes 5 -- (No error if not found)\n",
    "s.pop()        # Removes and returns random element\n",
    "# s.pop(2)  # ERROR - TypeError: set.pop() takes no arguments -> No pop(index) \"SET is UnOrdered\"  -> List has pop(index) & Dict has pop(key)  -> tupple has NO pop() as it's Imuatable\n",
    "s.clear()      # Empty the set\n"
   ]
  },
  {
   "cell_type": "code",
   "execution_count": null,
   "id": "b8515554",
   "metadata": {},
   "outputs": [
    {
     "name": "stdout",
     "output_type": "stream",
     "text": [
      "{1, 2, 3, 4, 5, 6}\n",
      "{1, 2, 3, 4, 5, 6}\n",
      "{3, 4}\n",
      "{3, 4}\n",
      "{1, 2}\n",
      "{5, 6}\n",
      "{1, 2, 5, 6}\n",
      "{1, 2, 5, 6}\n",
      "False\n",
      "False\n",
      "False\n",
      "{3, 4}\n"
     ]
    }
   ],
   "source": [
    "## Set Operations (Mathematical)\n",
    "# Sets shine here ✨ — useful in real-world problems like eliminating duplicates, checking overlaps, etc.\n",
    "\n",
    "a = {1, 2, 3, 4}\n",
    "b = {3, 4, 5, 6}\n",
    "\n",
    "# Union                               - Elements in a or b or both\n",
    "print(a | b)         # {1,2,3,4,5,6}\n",
    "print(a.union(b))\n",
    "\n",
    "# Intersection                        - Elements in both a and b\n",
    "print(a & b)         # {3,4}\n",
    "print(a.intersection(b))\n",
    "\n",
    "# Difference                          - Elements in a but not in b\n",
    "print(a - b)         # {1,2}\n",
    "print(b - a)         # {5,6}\n",
    "\n",
    "# Symmetric Difference\n",
    "print(a ^ b)         # {1,2,5,6}      - Elements in either a or b but not in both.    -  Intersection Elements are Removed\n",
    "print(a.symmetric_difference(b))\n",
    "\n",
    "## Other Useful Methods - Membership and Subset/Superset Checks\n",
    "print(a.isdisjoint(b)) # False - No common elements - fails even if one element is common\n",
    "print(a.issubset(b))   # False - All elements of a in b - fails even if one element is not present -> a <= b  \n",
    "print(a.issuperset(b)) # False - All elements of b in a - fails even if one element is not present - Opposite of Subset -> a >= b  \n",
    "\n",
    "## Update Methods.     - Inplace Operations - Modifies the original set - No new set is created - More memory efficient - Faster for large sets  \n",
    "a.intersection_update(b)   # a = a & b - Keeps only elements in both a and b\n",
    "print(a)  # {3,4}\n"
   ]
  },
  {
   "cell_type": "code",
   "execution_count": null,
   "id": "b7c02515",
   "metadata": {},
   "outputs": [],
   "source": [
    "## Checking Membership\n",
    "\n",
    "s = {1, 2, 3}\n",
    "print(2 in s)     # True\n",
    "print(5 not in s) # True\n"
   ]
  },
  {
   "cell_type": "code",
   "execution_count": null,
   "id": "6e398f70",
   "metadata": {},
   "outputs": [],
   "source": [
    "## Set Useful Methods\n",
    "\n",
    "s = {10, 20, 30}\n",
    "\n",
    "print(len(s))          # 3\n",
    "print(max(s))          # 30\n",
    "print(min(s))          # 10\n",
    "print(sum(s))          # 60\n"
   ]
  },
  {
   "cell_type": "code",
   "execution_count": 1,
   "id": "39d443e5",
   "metadata": {},
   "outputs": [
    {
     "name": "stdout",
     "output_type": "stream",
     "text": [
      "frozenset({1, 2, 3})\n"
     ]
    }
   ],
   "source": [
    "## Frozen Set (Immutable Set)\n",
    "# Sometimes you need an immutable set → use frozenset.\n",
    "\n",
    "fs = frozenset([1,2,3])\n",
    "# fs.add(4) ❌ (error, immutable)\n",
    "# fs.pop() - ❌ (error, immutable)\n",
    "print(fs)  # frozenset({1, 2, 3})\n"
   ]
  },
  {
   "cell_type": "code",
   "execution_count": null,
   "id": "b8564815",
   "metadata": {},
   "outputs": [],
   "source": [
    "\"\"\"\n",
    "Real-World Use Cases\n",
    "✅ Removing duplicates from lists or data.\n",
    "✅ Checking membership faster than lists.\n",
    "✅ Finding common elements between two datasets (emails, users). - Intersection\n",
    "✅ Set operations (union, intersection) in algorithms.\n",
    "✅ Unique filtering in API responses or log analysis.            - Symmetric Difference\n",
    "\"\"\""
   ]
  },
  {
   "cell_type": "code",
   "execution_count": null,
   "id": "46671599",
   "metadata": {},
   "outputs": [],
   "source": [
    "## Tips and Tricks\n",
    "\n",
    "# Convert list to set to remove duplicates\n",
    "nums = [1,2,2,3,3,4]\n",
    "unique = list(set(nums))   # [1,2,3,4]\n",
    "duplicate_count = len(nums) - len(unique)  # Count of duplicates\n",
    "\n",
    "# Check if two sets are disjoint (no common elements)\n",
    "a = {1,2,3}\n",
    "b = {4,5}\n",
    "print(a.isdisjoint(b))  # True\n",
    "\n",
    "# Subset & Superset\n",
    "print({1,2}.issubset({1,2,3}))   # True\n",
    "print({1,2,3}.issuperset({1,2})) # True\n"
   ]
  },
  {
   "cell_type": "markdown",
   "id": "7d44a37d",
   "metadata": {},
   "source": [
    "Summary\n",
    "Lists → ordered, duplicates allowed, mutable. -------\n",
    "Sets → unordered, unique only, mutable, fast membership tests."
   ]
  }
 ],
 "metadata": {
  "kernelspec": {
   "display_name": "PythonBasics",
   "language": "python",
   "name": "python3"
  },
  "language_info": {
   "codemirror_mode": {
    "name": "ipython",
    "version": 3
   },
   "file_extension": ".py",
   "mimetype": "text/x-python",
   "name": "python",
   "nbconvert_exporter": "python",
   "pygments_lexer": "ipython3",
   "version": "3.12.11"
  }
 },
 "nbformat": 4,
 "nbformat_minor": 5
}
