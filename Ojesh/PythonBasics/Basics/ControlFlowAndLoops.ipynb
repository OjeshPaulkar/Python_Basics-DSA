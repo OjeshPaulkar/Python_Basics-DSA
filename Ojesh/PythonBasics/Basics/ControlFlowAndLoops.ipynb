{
 "cells": [
  {
   "cell_type": "code",
   "execution_count": 5,
   "id": "935e33e9",
   "metadata": {},
   "outputs": [
    {
     "name": "stdout",
     "output_type": "stream",
     "text": [
      "The Year is a Leap Year\n"
     ]
    }
   ],
   "source": [
    "## Determining If the Given Year is a Leap Year or Not\n",
    "\n",
    "year = int(input(\"Please Enter the Year to check\"))\n",
    "\n",
    "if year%4==0:\n",
    "    if(year%100==0):\n",
    "        if(year%400==0):\n",
    "            print(\"The Year is a Leap Year\")\n",
    "        else:\n",
    "            print(year, \"Is not a leap year\")\n",
    "    else:\n",
    "        (year, \"Is not a leap year\")\n",
    "else:\n",
    "    print(\"The Year is Not an Leap Year\")"
   ]
  },
  {
   "cell_type": "code",
   "execution_count": null,
   "id": "9c73ff37",
   "metadata": {},
   "outputs": [
    {
     "name": "stdout",
     "output_type": "stream",
     "text": [
      "0\n",
      "1\n",
      "2\n",
      "3\n",
      "4\n",
      "10\n",
      "9\n",
      "8\n",
      "7\n",
      "6\n",
      "5\n",
      "4\n",
      "3\n",
      "2\n",
      "2\n",
      "4\n",
      "6\n",
      "8\n",
      "10\n",
      "H\n",
      "e\n",
      "l\n",
      "l\n",
      "o\n",
      "W\n",
      "o\n",
      "r\n",
      "l\n",
      "d\n",
      "apple\n",
      "banana\n",
      "cherry\n"
     ]
    }
   ],
   "source": [
    "# Loops in Python\n",
    "\n",
    "# For Loop -- Defination - A for loop is used for iterating over a sequence (that is either a list, a tuple, a dictionary, a set, or a string).\n",
    "\n",
    "# Example:\n",
    "for i in range(5):  # Iterates from 0 to 4\n",
    "    print(i)\n",
    "\n",
    "#Range(start, stop, step) --- By default start=0 and step=1\n",
    "\n",
    "for i in range(10,1,-1): \n",
    "    print(i)\n",
    "\n",
    "for i in range(2, 11, 2):  # Even numbers from 2 to 10\n",
    "    print(i)\n",
    "\n",
    "for i in (\"HelloWorld\"):\n",
    "    print(i)\n",
    "\n",
    "for i in (\"apple\", \"banana\", \"cherry\"):\n",
    "    print(i)\n",
    "\n",
    "for i in range(): # Empty range, does nothing\n",
    "    print(i)\n",
    "\n",
    "for i in range(70,0,-7): # Multiples of 7 from 70 to 7\n",
    "    print(i)"
   ]
  },
  {
   "cell_type": "code",
   "execution_count": null,
   "id": "59bc1766",
   "metadata": {},
   "outputs": [
    {
     "name": "stdout",
     "output_type": "stream",
     "text": [
      "0\n",
      "1\n",
      "2\n",
      "3\n",
      "4\n",
      "5\n"
     ]
    }
   ],
   "source": [
    "# While Loop -- Definition - A while loop repeatedly executes a target statement as long as a given condition is true.\n",
    "\n",
    "# Example:\n",
    "count = 0\n",
    "while count<=5:\n",
    "    print(count)\n",
    "    count += 1  # Increment count by 1"
   ]
  },
  {
   "cell_type": "code",
   "execution_count": 27,
   "id": "d198575d",
   "metadata": {},
   "outputs": [
    {
     "name": "stdout",
     "output_type": "stream",
     "text": [
      "0\n",
      "1\n",
      "2\n",
      "3\n",
      "4\n",
      "1\n",
      "3\n",
      "5\n",
      "7\n",
      "9\n",
      "0\n",
      "1\n",
      "2\n",
      "4\n"
     ]
    }
   ],
   "source": [
    "# Loop Control Statements\n",
    "#1.Break Statement - It is used to terminate the loop statement and transfers execution to the statement immediately following the loop.\n",
    "#2.Continue Statement - It is used to skip the current iteration of the loop and continue with the next iteration.\n",
    "#3.Pass Statement - It is a null statement in Python. It is used when a statement is syntactically required but you do not want any command or code to execute.\n",
    "\n",
    "# Example of Break Statement\n",
    "for i in range(10):\n",
    "    if i == 5:\n",
    "        break  # Exit the loop when i is 5\n",
    "    print(i)    \n",
    "\n",
    "# Example of Continue Statement\n",
    "for i in range(10):\n",
    "    if i%2==0:\n",
    "        continue\n",
    "    print(i)  # Print only odd numbers\n",
    "\n",
    "# Example of Pass Statement\n",
    "for i in range(5):\n",
    "    if i == 3:\n",
    "        pass  # Do nothing when i is 3\n",
    "    else:\n",
    "        print(i)"
   ]
  },
  {
   "cell_type": "code",
   "execution_count": 33,
   "id": "c475af40",
   "metadata": {},
   "outputs": [
    {
     "name": "stdout",
     "output_type": "stream",
     "text": [
      "i: 0 and j: 0\n",
      "i: 0 and j: 1\n",
      "i: 1 and j: 0\n",
      "i: 1 and j: 1\n",
      "i: 2 and j: 0\n",
      "i: 2 and j: 1\n"
     ]
    }
   ],
   "source": [
    "# Nested for Loop - A nested loop is a loop inside another loop.\n",
    "# Example:\n",
    "for i in range(3):\n",
    "    for j in range(2):\n",
    "        print(f\"i: {i} and j: {j}\")  # Print pairs of (i, j) -- f string for formatting -- available in python 3.6 and above - f\"string {variable} and more string\"\n"
   ]
  },
  {
   "cell_type": "code",
   "execution_count": null,
   "id": "4c004f02",
   "metadata": {},
   "outputs": [
    {
     "name": "stdout",
     "output_type": "stream",
     "text": [
      "15\n",
      "15\n"
     ]
    }
   ],
   "source": [
    "#Sum of N Natural Numbers\n",
    "\n",
    "counter = int(input(\"Enter the count for natural number\"))\n",
    "sum = 0\n",
    "\n",
    "for i in range(counter + 1):\n",
    "    sum = sum+i\n",
    "\n",
    "print(sum)\n",
    "\n",
    "sum2 = 0\n",
    "starter =1\n",
    "while (starter<=counter):\n",
    "    sum2 = sum2 + starter\n",
    "    starter += 1\n",
    "\n",
    "print(sum2)"
   ]
  },
  {
   "cell_type": "code",
   "execution_count": null,
   "id": "13a817d4",
   "metadata": {},
   "outputs": [
    {
     "name": "stdout",
     "output_type": "stream",
     "text": [
      "2\n",
      "3\n",
      "5\n",
      "7\n",
      "11\n",
      "13\n",
      "17\n",
      "19\n",
      "23\n",
      "29\n",
      "31\n",
      "37\n",
      "41\n",
      "43\n",
      "47\n",
      "53\n",
      "59\n",
      "61\n",
      "67\n",
      "71\n",
      "73\n",
      "79\n",
      "83\n",
      "89\n",
      "97\n",
      "Toatal Prime Numbers are: 25\n"
     ]
    }
   ],
   "source": [
    "# Identify Prime Numbers bertween 1 to 100\n",
    "\n",
    "count =0\n",
    "\n",
    "for i in range(101):\n",
    "    if i>1:\n",
    "        for j in range(2,i):\n",
    "            if i%j==0:\n",
    "                break\n",
    "        else:        # This else corresponds to the for loop, not the if statement -- executes if the loop wasn't broken - meaning break never happened - special feature of python\n",
    "            print(i)\n",
    "            count += 1\n",
    "\n",
    "print(\"Toatal Prime Numbers are:\", count)\n"
   ]
  }
 ],
 "metadata": {
  "kernelspec": {
   "display_name": "PythonBasics",
   "language": "python",
   "name": "python3"
  },
  "language_info": {
   "codemirror_mode": {
    "name": "ipython",
    "version": 3
   },
   "file_extension": ".py",
   "mimetype": "text/x-python",
   "name": "python",
   "nbconvert_exporter": "python",
   "pygments_lexer": "ipython3",
   "version": "3.12.11"
  }
 },
 "nbformat": 4,
 "nbformat_minor": 5
}
