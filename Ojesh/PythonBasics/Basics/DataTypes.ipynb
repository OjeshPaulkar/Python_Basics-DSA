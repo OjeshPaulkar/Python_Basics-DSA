{
 "cells": [
  {
   "cell_type": "code",
   "execution_count": null,
   "id": "631f8668",
   "metadata": {},
   "outputs": [],
   "source": [
    "#DataTypes\n",
    "\n",
    "#Defination: \n",
    "# A data type is a classification that specifies which type of value a variable can hold and what operations can be performed on it. \n",
    "# Tells the Compiler or Interpreter how the programmer intends to use the data.\n",
    "#They determine the operations that can be performed on the data, the meaning of the data, and how much space it occupies in memory.\n",
    "\n",
    "#Important Of Data Types:\n",
    "#1.Memory Management: Different data types require different amounts of memory. For example, an integer typically requires less memory than a floating-point number. \n",
    "# By specifying data types, programming languages can optimize memory usage.\n",
    "#2.Data Integrity: Data types help ensure that the data being used in a program is valid and appropriate for the operations being performed. \n",
    "# For example, you can't perform arithmetic operations on a string.\n",
    "#3.Performance Optimization: Knowing the data type allows compilers and interpreters to optimize code execution. \n",
    "# For example, operations on integers are generally faster than operations on floating-point numbers.\n",
    "#4.Error Detection: Data types help catch errors early in the development process. If a variable is assigned a value of an incompatible type, the programming language can raise an error.\n",
    "#5.Clarity and Maintainability: Using appropriate data types makes the code more readable and easier to understand. It provides context about how the data is intended to be used."
   ]
  },
  {
   "cell_type": "code",
   "execution_count": 2,
   "id": "81893369",
   "metadata": {},
   "outputs": [],
   "source": [
    "#Data Types in Python:\n",
    "#1.Numeric Types: int, float, complex\n",
    "#2.Sequence Types: list, tuple, range\n",
    "#3.Text Type: str\n",
    "#4.Mapping Type: dict\n",
    "#5.Set Types: set, frozenset\n",
    "#6.Boolean Type: bool\n",
    "#7.Binary Types: bytes, bytearray, memoryview   "
   ]
  },
  {
   "cell_type": "code",
   "execution_count": null,
   "id": "3405e575",
   "metadata": {},
   "outputs": [
    {
     "name": "stdout",
     "output_type": "stream",
     "text": [
      "10 <class 'int'>\n",
      "10.5 <class 'float'>\n",
      "Hello, World! <class 'str'>\n",
      "True <class 'bool'>\n",
      "['apple', 'banana', 'cherry'] <class 'list'>\n",
      "(10.0, 20.0) <class 'tuple'>\n",
      "{'name': 'Alice', 'age': 30} <class 'dict'>\n",
      "{1, 2, 3} <class 'set'>\n",
      "(3+4j) <class 'complex'>\n",
      "None <class 'NoneType'>\n"
     ]
    }
   ],
   "source": [
    "#Common Data Types Examples:\n",
    "#1.Integer (int): Whole numbers, positive or negative, without decimals.\n",
    "x = 10\n",
    "print(x, type(x))  # Output: 10 <class 'int'>   \n",
    "#2.Float (float): Numbers with decimals.\n",
    "y = 10.5\n",
    "print(y, type(y))  # Output: 10.5 <class 'float'>   \n",
    "#3.String (str): Sequence of characters, enclosed in single or double quotes.\n",
    "name = \"Hello, World!\"\n",
    "print(name, type(name))  # Output: Hello, World! <class 'str'>   \n",
    "#4.Boolean (bool): Represents one of two values: True or False.\n",
    "is_active = True\n",
    "print(is_active, type(is_active))  # Output: True <class 'bool'>   \n",
    "#5.List (list): Ordered, mutable collection of items, enclosed in square brackets. Can contain duplicate values.\n",
    "fruits = [\"apple\", \"banana\", \"cherry\"]\n",
    "print(fruits, type(fruits))  # Output: ['apple', 'banana', 'cherry'] <class 'list'>   \n",
    "#6.Tuple (tuple): Ordered, immutable collection of items, enclosed in parentheses. Can contain duplicate values.\n",
    "coordinates = (10.0, 20.0)\n",
    "print(coordinates, type(coordinates))  # Output: (10.0, 20.0) <class 'tuple'>   \n",
    "#7.Dictionary (dict): Unordered collection of key-value pairs, enclosed in curly braces. Keys must be unique.\n",
    "person = {\"name\": \"Alice\", \"age\": 30}\n",
    "print(person, type(person))  # Output: {'name': 'Alice', 'age': 30} <class 'dict'>   \n",
    "#8.Set (set): Unordered collection of unique items, enclosed in curly braces. Cannot have duplicate values.\n",
    "unique_numbers = {1, 2, 3}\n",
    "print(unique_numbers, type(unique_numbers))  # Output: {1, 2, 3} <class 'set'>   \n",
    "#9.Complex (complex): Represents complex numbers with a real and imaginary part. The imaginary part is denoted by 'j' or 'J'.\n",
    "z = 3 + 4j\n",
    "print(z, type(z))  # Output: (3+4j) <class 'complex'>   \n",
    "#10.NoneType (None): Represents the absence of a value. It is often used to signify 'no value' or 'null'.\n",
    "value = None\n",
    "print(value, type(value))  # Output: None <class 'NoneType'>   \n"
   ]
  },
  {
   "cell_type": "code",
   "execution_count": 5,
   "id": "51e628d0",
   "metadata": {},
   "outputs": [],
   "source": [
    "#Common Errors Related to Data Types:\n",
    "#1.TypeError: This error occurs when an operation or function is applied to an object of an inappropriate type.\n",
    "# Example: Trying to add a string and an integer.\n",
    "# x = \"10\"\n",
    "# y = 5\n",
    "# print(x + y)  # Raises TypeError. - can be fixed by converting int to str or str to int  - Type Casting. --- print(x + str(y)) -> Output: 105  or print(int(x) + y) -> Output: 15\n",
    "\n",
    "#2.ValueError: This error occurs when a function receives an argument of the correct type but an inappropriate value.\n",
    "# Example: Trying to convert a string that does not represent a number into an integer.\n",
    "# x = \"hello\"\n",
    "# y = int(x)  # Raises ValueError\n",
    "\n",
    "#3.IndexError: This error occurs when trying to access an index that is out of the range of a sequence (like a list or tuple).\n",
    "# Example: Accessing an index that does not exist in a list.\n",
    "# my_list = [1, 2, 3]\n",
    "# print(my_list[5])  # Raises IndexError    \n",
    "\n",
    "#4.KeyError: This error occurs when trying to access a key that does not exist in a dictionary.\n",
    "# Example: Accessing a non-existent key in a dictionary.\n",
    "# my_dict = {\"name\": \"Alice\", \"age\": 30}\n",
    "# print(my_dict[\"address\"])  # Raises KeyError  \n",
    "\n",
    "#5.AttributeError: This error occurs when trying to access an attribute or method that does not exist for a particular data type.\n",
    "# Example: Trying to call a list method on a string.\n",
    "# my_string = \"Hello\"\n",
    "# my_string.append(\" World\")  # Raises AttributeError   "
   ]
  }
 ],
 "metadata": {
  "kernelspec": {
   "display_name": "PythonBasics",
   "language": "python",
   "name": "python3"
  },
  "language_info": {
   "codemirror_mode": {
    "name": "ipython",
    "version": 3
   },
   "file_extension": ".py",
   "mimetype": "text/x-python",
   "name": "python",
   "nbconvert_exporter": "python",
   "pygments_lexer": "ipython3",
   "version": "3.12.11"
  }
 },
 "nbformat": 4,
 "nbformat_minor": 5
}
