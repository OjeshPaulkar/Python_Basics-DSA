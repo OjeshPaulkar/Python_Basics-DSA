{
 "cells": [
  {
   "cell_type": "code",
   "execution_count": 1,
   "id": "172614d2",
   "metadata": {},
   "outputs": [
    {
     "name": "stdout",
     "output_type": "stream",
     "text": [
      "Hellow World\n"
     ]
    }
   ],
   "source": [
    "print(\"Hellow World\")"
   ]
  },
  {
   "cell_type": "code",
   "execution_count": 2,
   "id": "1ad4afaf",
   "metadata": {},
   "outputs": [
    {
     "name": "stdout",
     "output_type": "stream",
     "text": [
      "5\n"
     ]
    }
   ],
   "source": [
    "#This is Single line comment\n",
    "print(2+3)"
   ]
  },
  {
   "cell_type": "code",
   "execution_count": 5,
   "id": "36dbf573",
   "metadata": {},
   "outputs": [
    {
     "data": {
      "text/plain": [
       "'\\nThis is my first python code.\\nI am learning python from scratch.\\nI will lear DSA in python.\\n'"
      ]
     },
     "execution_count": 5,
     "metadata": {},
     "output_type": "execute_result"
    }
   ],
   "source": [
    "#For Multi Line Comment we use ''' or \"\"\"\n",
    "\n",
    "'''\n",
    "This is my first python code.\n",
    "I am learning python from scratch.\n",
    "I will lear DSA in python.\n",
    "'''"
   ]
  },
  {
   "cell_type": "code",
   "execution_count": 12,
   "id": "34c86e6e",
   "metadata": {},
   "outputs": [
    {
     "name": "stdout",
     "output_type": "stream",
     "text": [
      "Luffy\n",
      "Zoro\n"
     ]
    }
   ],
   "source": [
    "#Python is case sensitive language\n",
    "name = \"Luffy\"\n",
    "Name = \"Zoro\"\n",
    "\n",
    "print(name)\n",
    "print(Name)"
   ]
  },
  {
   "cell_type": "code",
   "execution_count": 4,
   "id": "bc8c0634",
   "metadata": {},
   "outputs": [
    {
     "name": "stdout",
     "output_type": "stream",
     "text": [
      "You are not eligible to vote\n"
     ]
    }
   ],
   "source": [
    "#Indentation is very important in python, it defines a block of code, unlike other programming languages which uses {} to define a block of code.\n",
    "age = 16\n",
    "if age>18:\n",
    "    print(\"You are eligible to vote\")\n",
    "else:\n",
    "    print(\"You are not eligible to vote\")"
   ]
  },
  {
   "cell_type": "code",
   "execution_count": null,
   "id": "656cf2fa",
   "metadata": {},
   "outputs": [
    {
     "name": "stdout",
     "output_type": "stream",
     "text": [
      "150\n",
      "150\n",
      "[10, 20, 30, 40, 50]\n"
     ]
    }
   ],
   "source": [
    "#Line continuation using (\\) backslash to continue a line of code to next line.\n",
    "a = 10 + 20 + 30 + \\\n",
    "    40 + 50\n",
    "\n",
    "print(a)\n",
    "\n",
    "#Multi line statement using () parentheses to continue a line of code to next line.\n",
    "b = (10 + 20 + 30 +\n",
    "     40 + 50)\n",
    "\n",
    "print(b)\n",
    "\n",
    "#Multi line statement using [] square brackets to continue a line of code to next line. This is mostly used in list. \n",
    "# A list is a collection which is ordered and changeable. Allows duplicate members.\n",
    "c = [10, 20, 30,\n",
    "     40, 50]            \n",
    "\n",
    "print(c)"
   ]
  },
  {
   "cell_type": "code",
   "execution_count": 11,
   "id": "6b986348",
   "metadata": {},
   "outputs": [
    {
     "name": "stdout",
     "output_type": "stream",
     "text": [
      "10 20 30 60\n"
     ]
    }
   ],
   "source": [
    "#Multiple statements in a single line using (;) semicolon to separate the statements.\n",
    "x = 10; y = 20; z = 30\n",
    "print(x, y, z, x+y+z)"
   ]
  },
  {
   "cell_type": "code",
   "execution_count": null,
   "id": "495a4360",
   "metadata": {},
   "outputs": [
    {
     "name": "stdout",
     "output_type": "stream",
     "text": [
      "<class 'int'>\n",
      "<class 'str'>\n"
     ]
    }
   ],
   "source": [
    "#Understanding Symnatics In Python\n",
    "\n",
    "#Variable assignment\n",
    "age = 25       #valid\n",
    "_age = 30     #valid\n",
    "age2 = 35     #valid\n",
    "#2age = 40    #invalid\n",
    "#age-2 = 45   #invalid\n",
    "#age 2 = 50   #invalid \n",
    "\n",
    "name = \"Luffy\"  #valid\n",
    "\n",
    "type(age)  #int\n",
    "type(name)   #str\n",
    "\n",
    "print(type(age))\n",
    "print(type(name))"
   ]
  },
  {
   "cell_type": "code",
   "execution_count": null,
   "id": "a9ee71b4",
   "metadata": {},
   "outputs": [
    {
     "name": "stdout",
     "output_type": "stream",
     "text": [
      "<class 'int'>\n",
      "<class 'str'>\n"
     ]
    }
   ],
   "source": [
    "#Type Inference\n",
    "a = 10        #int\n",
    "b = 20.5      #float\n",
    "c = \"Hello\"   #str\n",
    "\n",
    "#Dynamic Typing\n",
    "variable = 100\n",
    "print(type(variable))\n",
    "variable = \"Python\"\n",
    "print(type(variable))"
   ]
  },
  {
   "cell_type": "code",
   "execution_count": 20,
   "id": "19b6df51",
   "metadata": {},
   "outputs": [
    {
     "name": "stdout",
     "output_type": "stream",
     "text": [
      "4375473352\n",
      "4375473672\n",
      "4375473352\n"
     ]
    }
   ],
   "source": [
    "#Code to demonstrate memory allocation in python\n",
    "x = 10\n",
    "print(id(x))\n",
    "x = 20\n",
    "print(id(x))\n",
    "x = 10\n",
    "print(id(x))       "
   ]
  },
  {
   "cell_type": "code",
   "execution_count": null,
   "id": "ec9ec8f4",
   "metadata": {},
   "outputs": [
    {
     "name": "stdout",
     "output_type": "stream",
     "text": [
      "Correct Indentation\n",
      "Back to previous Indentation\n",
      "No Indentation\n"
     ]
    }
   ],
   "source": [
    "#Code example of Indentation Error\n",
    "\n",
    "if True:\n",
    "    print(\"Correct Indentation\")\n",
    "    if False:\n",
    "        print(\"Nested Indentation - will not print\")\n",
    "    print(\"Back to previous If Indentation\")\n",
    "          \n",
    "print(\"No Indentation\")"
   ]
  },
  {
   "cell_type": "code",
   "execution_count": null,
   "id": "60eb5858",
   "metadata": {},
   "outputs": [],
   "source": []
  }
 ],
 "metadata": {
  "kernelspec": {
   "display_name": "PythonBasics",
   "language": "python",
   "name": "python3"
  },
  "language_info": {
   "codemirror_mode": {
    "name": "ipython",
    "version": 3
   },
   "file_extension": ".py",
   "mimetype": "text/x-python",
   "name": "python",
   "nbconvert_exporter": "python",
   "pygments_lexer": "ipython3",
   "version": "3.12.11"
  }
 },
 "nbformat": 4,
 "nbformat_minor": 5
}
