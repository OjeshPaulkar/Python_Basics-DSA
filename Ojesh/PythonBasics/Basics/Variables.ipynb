{
 "cells": [
  {
   "cell_type": "code",
   "execution_count": null,
   "id": "3ea970f8",
   "metadata": {},
   "outputs": [
    {
     "name": "stdout",
     "output_type": "stream",
     "text": [
      "Name: Monkey D Luffy\n",
      "Age: 25\n",
      "Height: 5.7\n",
      "Is Student: True\n"
     ]
    }
   ],
   "source": [
    "# Declaring and Assigning Variables\n",
    "age = 25\n",
    "height = 5.7\n",
    "name = \"Monkey D Luffy\"\n",
    "is_student = True\n",
    "\n",
    "# Printing Variables\n",
    "print(\"Name:\", name)\n",
    "print(\"Age:\", age)\n",
    "print(\"Height:\", height)\n",
    "print(\"Is Student:\", is_student)"
   ]
  },
  {
   "cell_type": "code",
   "execution_count": null,
   "id": "0d082a98",
   "metadata": {},
   "outputs": [],
   "source": [
    "#Naming Conventions\n",
    "# Variable names should start with a letter or underscore (_) and can be followed by letters, digits, or underscores\n",
    "# Variable names are case-sensitive (e.g., age and Age are different variables)\n",
    "# Use lowercase letters and underscores for multi-word variable names (snake_case)\n",
    "# Avoid using Python reserved keywords as variable names\n",
    "# Example of a reserved keyword: if, else, while, for, def, return, class, etc.\n",
    "\n",
    "#Valid Variable Names\n",
    "my_variable = 10\n",
    "_variable2 = 20\n",
    "variable_3 = 30\n",
    "VariableName = 40  # Not recommended, but valid - usually use lowercase with underscores - variable_name  - snake_case\n",
    "\n",
    "#Invalid Variable Names\n",
    "# 2variable = 50  # Starts with a digit\n",
    "# my-variable = 60  # Contains a hyphen\n",
    "# my variable = 70  # Contains a space\n",
    "# var@ = 90  # Contains a special character\n",
    "# if = 80  # Reserved keyword"
   ]
  },
  {
   "cell_type": "code",
   "execution_count": 11,
   "id": "98bb8078",
   "metadata": {
    "vscode": {
     "languageId": "markdown"
    }
   },
   "outputs": [
    {
     "data": {
      "text/plain": [
       "float"
      ]
     },
     "execution_count": 11,
     "metadata": {},
     "output_type": "execute_result"
    }
   ],
   "source": [
    "#Understanding Variable Types\n",
    "# Python is dynamically typed, meaning you don't need to declare variable types explicitly, they are inferred at runtime.\n",
    "\n",
    "# Common variable types include:\n",
    "# int - Integer numbers\n",
    "# float - Floating-point numbers\n",
    "# str - Strings (text)\n",
    "# bool - Boolean values (True or False)\n",
    "# list - Ordered collection of items\n",
    "# dict - Key-value pairs\n",
    "# tuple - Immutable ordered collection of items\n",
    "# set - Unordered collection of unique items   \n",
    "\n",
    "type(height)  # This will return <class 'float'>"
   ]
  },
  {
   "cell_type": "code",
   "execution_count": null,
   "id": "028448c7",
   "metadata": {},
   "outputs": [
    {
     "name": "stdout",
     "output_type": "stream",
     "text": [
      "<class 'int'>\n",
      "32\n",
      "<class 'str'>\n",
      "5\n",
      "<class 'int'>\n",
      "25\n",
      "<class 'int'>\n"
     ]
    },
    {
     "ename": "ValueError",
     "evalue": "invalid literal for int() with base 10: 'Luffy'",
     "output_type": "error",
     "traceback": [
      "\u001b[31m---------------------------------------------------------------------------\u001b[39m",
      "\u001b[31mValueError\u001b[39m                                Traceback (most recent call last)",
      "\u001b[36mCell\u001b[39m\u001b[36m \u001b[39m\u001b[32mIn[10]\u001b[39m\u001b[32m, line 21\u001b[39m\n\u001b[32m     18\u001b[39m \u001b[38;5;28mprint\u001b[39m(\u001b[38;5;28mtype\u001b[39m(age_int))  \u001b[38;5;66;03m# Output: <class 'int'>\u001b[39;00m\n\u001b[32m     20\u001b[39m name = \u001b[33m\"\u001b[39m\u001b[33mLuffy\u001b[39m\u001b[33m\"\u001b[39m\n\u001b[32m---> \u001b[39m\u001b[32m21\u001b[39m name_int = \u001b[38;5;28;43mint\u001b[39;49m\u001b[43m(\u001b[49m\u001b[43mname\u001b[49m\u001b[43m)\u001b[49m  \u001b[38;5;66;03m# This will raise a ValueError\u001b[39;00m\n\u001b[32m     22\u001b[39m \u001b[38;5;28mprint\u001b[39m(name_int)  \u001b[38;5;66;03m# Output: ValueError: invalid literal for int() with base 10: 'Luffy'\u001b[39;00m\n\u001b[32m     23\u001b[39m \u001b[38;5;28mprint\u001b[39m(\u001b[38;5;28mtype\u001b[39m(name_int))  \u001b[38;5;66;03m# This line will not be executed due to the error\u001b[39;00m\n",
      "\u001b[31mValueError\u001b[39m: invalid literal for int() with base 10: 'Luffy'"
     ]
    }
   ],
   "source": [
    "#Type Checking and Type Conversion\n",
    "age = 32\n",
    "print(type(age))  # Output: <class 'int'>\n",
    "\n",
    "age_str = str(age)\n",
    "print(age_str)  # Output: '32'\n",
    "print(type(age_str))  # Output: <class 'str'>\n",
    "\n",
    "#More Examples\n",
    "height = 5.9\n",
    "height_int = int(height)\n",
    "print(height_int)  # Output: 5\n",
    "print(type(height_int))  # Output: <class 'int'>\n",
    "\n",
    "float(height_int) # Converting back int to float\n",
    "print(float(height_int))  # Output: 5.0\n",
    "\n",
    "age = \"25\"\n",
    "age_int = int(age)\n",
    "print(age_int)  # Output: 25\n",
    "print(type(age_int))  # Output: <class 'int'>\n",
    "\n",
    "name = \"Luffy\"\n",
    "name_int = int(name)  # This will raise a ValueError\n",
    "print(name_int)  # Output: ValueError: invalid literal for int() with base 10: 'Luffy'\n",
    "print(type(name_int))  # This line will not be executed due to the error"
   ]
  },
  {
   "cell_type": "code",
   "execution_count": 12,
   "id": "a681e2a2",
   "metadata": {},
   "outputs": [
    {
     "name": "stdout",
     "output_type": "stream",
     "text": [
      "10 <class 'int'>\n",
      "hello <class 'str'>\n",
      "5.5 <class 'float'>\n"
     ]
    }
   ],
   "source": [
    "#Dynamic Typing\n",
    "#Python allows the Type of a variable to change during execution\n",
    "var = 10  # var is an integer\n",
    "print(var, type(var))  # Output: 10 <class 'int'>\n",
    "\n",
    "var = \"hello\"\n",
    "print (var, type(var))  # Output: hello <class 'str'>\n",
    "\n",
    "var = 5.5\n",
    "print(var, type(var)) # Output: 5.5 <class 'float'>"
   ]
  },
  {
   "cell_type": "code",
   "execution_count": 16,
   "id": "8ae2fe66",
   "metadata": {},
   "outputs": [
    {
     "name": "stdout",
     "output_type": "stream",
     "text": [
      "Hello, Luffy! <class 'str'>\n",
      "21 <class 'int'>\n"
     ]
    }
   ],
   "source": [
    "#Input from User\n",
    "name = input(\"Enter your name: \")\n",
    "print(\"Hello, \" + name + \"!\", type(name))  # Input is always treated as a string\n",
    "\n",
    "age = int(input(\"What is Your age? \"))\n",
    "print(age,type(age)) # Converting input string to integer"
   ]
  },
  {
   "cell_type": "code",
   "execution_count": null,
   "id": "ec1fc707",
   "metadata": {},
   "outputs": [
    {
     "name": "stdout",
     "output_type": "stream",
     "text": [
      "Sum: 447.0\n",
      "Difference: 221.0\n",
      "Product: 37742.0\n",
      "Quotient: 2\n"
     ]
    }
   ],
   "source": [
    "#Simple Calculator\n",
    "\n",
    "num1 = float(input(\"Enter the first number:\"))\n",
    "num2 = float(input(\"Enter the second number:\"))\n",
    "\n",
    "sum = num1 + num2\n",
    "diff = num1 - num2\n",
    "prod = num1 * num2\n",
    "quot = int(num1 / num2) # Integer Division\n",
    "\n",
    "print (\"Sum:\", sum)\n",
    "print (\"Difference:\", diff)\n",
    "print (\"Product:\", prod)\n",
    "print (\"Quotient:\", quot)"
   ]
  },
  {
   "cell_type": "code",
   "execution_count": 1,
   "id": "a35df39d",
   "metadata": {},
   "outputs": [
    {
     "name": "stdout",
     "output_type": "stream",
     "text": [
      "99341512\n"
     ]
    }
   ],
   "source": [
    "#Calculator in 1 Line\n",
    "\n",
    "print(eval(input(\"Give Expression to calculate\"))) # 3*9 -> 27"
   ]
  },
  {
   "cell_type": "code",
   "execution_count": null,
   "id": "3beef290",
   "metadata": {},
   "outputs": [],
   "source": []
  }
 ],
 "metadata": {
  "kernelspec": {
   "display_name": "PythonBasics",
   "language": "python",
   "name": "python3"
  },
  "language_info": {
   "codemirror_mode": {
    "name": "ipython",
    "version": 3
   },
   "file_extension": ".py",
   "mimetype": "text/x-python",
   "name": "python",
   "nbconvert_exporter": "python",
   "pygments_lexer": "ipython3",
   "version": "3.12.11"
  }
 },
 "nbformat": 4,
 "nbformat_minor": 5
}
