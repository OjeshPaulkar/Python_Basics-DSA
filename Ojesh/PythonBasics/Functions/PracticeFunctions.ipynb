{
 "cells": [
  {
   "cell_type": "code",
   "execution_count": null,
   "id": "cfe6ebc1",
   "metadata": {},
   "outputs": [
    {
     "name": "stdout",
     "output_type": "stream",
     "text": [
      "False\n",
      "True\n"
     ]
    }
   ],
   "source": [
    "## PASSWORD STRENGTH CHECK\n",
    "\n",
    "def password_check(password):\n",
    "    if len(password)<8:\n",
    "        return False\n",
    "    if not any(char.isdigit() for char in password):\n",
    "        return False\n",
    "    if not any(char.islower() for char in password):\n",
    "        return False\n",
    "    if not any(char.isupper() for char in password):\n",
    "        return False\n",
    "    if not any(char in \"!@#$%^&*()_+\" for char in password):\n",
    "        return False\n",
    "    return True\n",
    "\n",
    "# Calling Function\n",
    "print(password_check(\"WeakPassword\"))\n",
    "print(password_check(\"Str0ngPassword!\"))"
   ]
  },
  {
   "cell_type": "code",
   "execution_count": 9,
   "id": "c44902f4",
   "metadata": {},
   "outputs": [
    {
     "name": "stdout",
     "output_type": "stream",
     "text": [
      "Total Value Of Your Cart Is : Rs 183\n"
     ]
    }
   ],
   "source": [
    "## CALCULATE THE TOTAL VALUE OF CART\n",
    "\n",
    "def cart_value_calculator(cart):\n",
    "    total_cost = 0\n",
    "    for item in cart:\n",
    "        total_cost += item[\"qty\"] * item[\"price\"]\n",
    "        \n",
    "    return total_cost\n",
    "\n",
    "cart = [\n",
    "    {'name':'Apple', 'qty':5, 'price':15},\n",
    "    {'name':'Banana', 'qty':12, 'price':4},\n",
    "    {'name':'Orange', 'qty':6, 'price':10}\n",
    "]\n",
    "\n",
    "cart_value = cart_value_calculator(cart)\n",
    "print(f\"Total Value Of Your Cart Is : Rs {cart_value}\")"
   ]
  },
  {
   "cell_type": "code",
   "execution_count": 11,
   "id": "6d7a1c84",
   "metadata": {},
   "outputs": [
    {
     "name": "stdout",
     "output_type": "stream",
     "text": [
      "True\n",
      "False\n"
     ]
    }
   ],
   "source": [
    "## CHECK GIVEN STRING IS PALINDROME\n",
    "\n",
    "def is_palindrome(s):\n",
    "    s=s.lower().replace(\" \",\"\")\n",
    "    return s==s[::-1]\n",
    "\n",
    "#call\n",
    "print(is_palindrome(\"A man a plan a canal Panama\"))\n",
    "print(is_palindrome(\"Hello World\"))"
   ]
  },
  {
   "cell_type": "code",
   "execution_count": 13,
   "id": "43177b2c",
   "metadata": {},
   "outputs": [
    {
     "name": "stdout",
     "output_type": "stream",
     "text": [
      "120\n"
     ]
    }
   ],
   "source": [
    "## FACTORIAL USING RECURSION\n",
    "\n",
    "def factorial(n):\n",
    "    if n==0:\n",
    "        return 1\n",
    "    else:\n",
    "        return n * factorial(n-1)\n",
    "    \n",
    "print(factorial(5))"
   ]
  },
  {
   "cell_type": "code",
   "execution_count": null,
   "id": "2f06966c",
   "metadata": {},
   "outputs": [],
   "source": []
  }
 ],
 "metadata": {
  "kernelspec": {
   "display_name": "PythonBasics",
   "language": "python",
   "name": "python3"
  },
  "language_info": {
   "codemirror_mode": {
    "name": "ipython",
    "version": 3
   },
   "file_extension": ".py",
   "mimetype": "text/x-python",
   "name": "python",
   "nbconvert_exporter": "python",
   "pygments_lexer": "ipython3",
   "version": "3.12.11"
  }
 },
 "nbformat": 4,
 "nbformat_minor": 5
}
