{
 "cells": [
  {
   "cell_type": "code",
   "execution_count": null,
   "id": "7ab599b1",
   "metadata": {},
   "outputs": [],
   "source": [
    "## Lambda Functions\n",
    "# Lambda functions are small anonymous functions defined with the lambda keyword. - Anonymous means they are not declared with the standard def keyword. - No name is assigned to them.\n",
    "# They can take any number of arguments but can only have one expression.\n",
    "# The expression is evaluated and returned when the function is called.\n",
    "\n",
    "#Syntax:\n",
    "# lambda arguments: expression"
   ]
  },
  {
   "cell_type": "code",
   "execution_count": 4,
   "id": "9d76c346",
   "metadata": {},
   "outputs": [
    {
     "name": "stdout",
     "output_type": "stream",
     "text": [
      "<class 'function'>\n",
      "9\n",
      "196\n"
     ]
    },
    {
     "data": {
      "text/plain": [
       "True"
      ]
     },
     "execution_count": 4,
     "metadata": {},
     "output_type": "execute_result"
    }
   ],
   "source": [
    "# Example\n",
    "\n",
    "addition = lambda a,b:a+b\n",
    "print(type(addition))     # function\n",
    "print(addition(3,6))\n",
    "\n",
    "\n",
    "square = lambda x:x**2\n",
    "print(square(14))\n",
    "\n",
    "even = lambda num:num%2==0\n",
    "even(12)"
   ]
  }
 ],
 "metadata": {
  "kernelspec": {
   "display_name": "PythonBasics",
   "language": "python",
   "name": "python3"
  },
  "language_info": {
   "codemirror_mode": {
    "name": "ipython",
    "version": 3
   },
   "file_extension": ".py",
   "mimetype": "text/x-python",
   "name": "python",
   "nbconvert_exporter": "python",
   "pygments_lexer": "ipython3",
   "version": "3.12.11"
  }
 },
 "nbformat": 4,
 "nbformat_minor": 5
}
