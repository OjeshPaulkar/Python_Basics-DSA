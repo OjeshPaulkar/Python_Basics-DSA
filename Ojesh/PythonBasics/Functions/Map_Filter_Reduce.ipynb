{
 "cells": [
  {
   "cell_type": "code",
   "execution_count": null,
   "id": "c5722d9a",
   "metadata": {},
   "outputs": [],
   "source": [
    "'''\n",
    "In data science, we often work with lists of data (like numbers, strings, dictionaries).\n",
    "We want to transform, clean, or summarize data quickly.\n",
    "\n",
    "That’s where these three built-in functions shine:\n",
    "\n",
    "Function\t              Purpose\t                       Simple Meaning\n",
    "map()\t              Transform each item\t         “Do this to every element”\n",
    "filter()\t          Select certain items\t        “Keep only items that match”\n",
    "reduce()\t         Combine all items into one\t       “Summarize everything”\n",
    "\n",
    "'''"
   ]
  },
  {
   "cell_type": "code",
   "execution_count": null,
   "id": "7105d3ae",
   "metadata": {},
   "outputs": [
    {
     "name": "stdout",
     "output_type": "stream",
     "text": [
      "<map object at 0x10534de70>\n",
      "[32.0, 68.0, 86.0, 104.0]\n"
     ]
    }
   ],
   "source": [
    "\n",
    "## MAP   -> map(func, iterable)\n",
    "\n",
    "# map() — Transform Each Item\n",
    "# Think like: “Apply this formula to every data point.”\n",
    "\n",
    "\n",
    "# Example: Convert Celsius temperatures to Fahrenheit\n",
    "\n",
    "temps_c = [0, 20, 30, 40]\n",
    "\n",
    "# Formula: F = C * 9/5 + 32\n",
    "temps_f = (map(lambda c:c*9/5+32, temps_c))\n",
    "print(temps_f)       # -> <map object at 0x10522ead0> \n",
    "\n",
    "temp_f = list((map(lambda c:c*9/5+32, temps_c)))\n",
    "print(temp_f)         # [32.0, 68.0, 86.0, 104.0]\n",
    "\n",
    "#📌 Use case in data science:\n",
    "    # Scaling/normalizing numerical data\n",
    "    # Converting units (kg → pounds, cm → inches)\n",
    "    # Applying mathematical operations to every column value"
   ]
  },
  {
   "cell_type": "code",
   "execution_count": null,
   "id": "0891a7b6",
   "metadata": {},
   "outputs": [
    {
     "name": "stdout",
     "output_type": "stream",
     "text": [
      "[50, 70, 80, 90]\n"
     ]
    }
   ],
   "source": [
    "## Filter    -> filter(func, iterable)\n",
    "\n",
    "# filter() — Select Items That Meet a Condition\n",
    "# Think like: “Pick only data points that pass this test.”\n",
    "\n",
    "#Example: Filter out outliers (only keep values < 100)\n",
    "\n",
    "sales = [50, 200, 70, 80, 150, 90]\n",
    "\n",
    "filtered_values = list(filter(lambda x:x<100, sales))\n",
    "print(filtered_values)\n",
    "\n",
    "# 📌 Use case in data science:\n",
    "    # Removing outliers or invalid data\n",
    "    # Selecting rows that match a condition (like age > 18)\n",
    "    # Filtering missing or null values"
   ]
  },
  {
   "cell_type": "code",
   "execution_count": null,
   "id": "2404533b",
   "metadata": {},
   "outputs": [
    {
     "name": "stdout",
     "output_type": "stream",
     "text": [
      "640\n"
     ]
    }
   ],
   "source": [
    "## Reduce    -> from functools import reduce    -> reduce(func, iterable)\n",
    "\n",
    "# reduce() — Combine Items into One Result\n",
    "# Think like: “Pick only data points that pass this test.”\n",
    "\n",
    "# Example: Calculate total sales\n",
    "\n",
    "from functools import reduce\n",
    "\n",
    "sales = [50, 200, 70, 80, 150, 90]\n",
    "\n",
    "total_sales = reduce(lambda a,b:a+b, sales)\n",
    "print(total_sales)\n",
    "\n",
    "# 📌 Use case in data science:\n",
    "    # Summing or multiplying all values\n",
    "    # Finding max/min value manually\n",
    "    # Calculating overall metrics (mean, variance, etc.)\n"
   ]
  },
  {
   "cell_type": "code",
   "execution_count": 19,
   "id": "c0ee1bed",
   "metadata": {},
   "outputs": [
    {
     "name": "stdout",
     "output_type": "stream",
     "text": [
      "Percentages : [90.0, 47.5, 70.0, 65.0, 20.0, 87.5]\n",
      "[90.0, 70.0, 65.0, 87.5]\n",
      "Passed : [90.0, 70.0, 65.0, 87.5]\n",
      "Total Score : 312.5\n"
     ]
    }
   ],
   "source": [
    "# 🧠 Another Realistic Data Science Example\n",
    "\n",
    "    # Imagine you have student test scores and you want to:\n",
    "        # Convert raw scores to percentages\n",
    "        # Filter only students who passed\n",
    "        # Find the total of all passing scores\n",
    "\n",
    "from functools import reduce\n",
    "\n",
    "# raw scores out of 200\n",
    "scores = [180, 95, 140, 130, 40, 175]\n",
    "\n",
    "# Convert raw scores to percentages\n",
    "percentage = list(map(lambda x:(x/200)*100, scores))\n",
    "print(\"Percentages :\" , percentage) \n",
    "\n",
    "# Filter only students who passed - >50%\n",
    "passed = list(filter(lambda x:x>50, list(map(lambda x:(x/200)*100, scores))))\n",
    "print(passed)\n",
    "\n",
    "passed1 = list(filter(lambda x:x>50, percentage))\n",
    "print(\"Passed :\" ,passed1)\n",
    "\n",
    "# Find the total of all passing scores\n",
    "passing_total = reduce(lambda a,b:a+b, passed)\n",
    "print(\"Total Score :\" , passing_total)"
   ]
  },
  {
   "cell_type": "code",
   "execution_count": null,
   "id": "c1de722b",
   "metadata": {},
   "outputs": [],
   "source": [
    "# ⚡ Tips\n",
    "    # Wrap map() and filter() with list() because they return iterators.\n",
    "    # Use lambda for quick inline logic or define a normal function if logic is long.\n",
    "    # These are functional programming tools → great for writing clean, short code for data cleaning/transformation."
   ]
  }
 ],
 "metadata": {
  "kernelspec": {
   "display_name": "PythonBasics",
   "language": "python",
   "name": "python3"
  },
  "language_info": {
   "codemirror_mode": {
    "name": "ipython",
    "version": 3
   },
   "file_extension": ".py",
   "mimetype": "text/x-python",
   "name": "python",
   "nbconvert_exporter": "python",
   "pygments_lexer": "ipython3",
   "version": "3.12.11"
  }
 },
 "nbformat": 4,
 "nbformat_minor": 5
}
