{
 "cells": [
  {
   "cell_type": "code",
   "execution_count": null,
   "id": "c5722d9a",
   "metadata": {},
   "outputs": [],
   "source": [
    "'''\n",
    "In data science, we often work with lists of data (like numbers, strings, dictionaries).\n",
    "We want to transform, clean, or summarize data quickly.\n",
    "\n",
    "That’s where these three built-in functions shine:\n",
    "\n",
    "Function\t              Purpose\t                       Simple Meaning\n",
    "map()\t              Transform each item\t         “Do this to every element”\n",
    "filter()\t          Select certain items\t        “Keep only items that match”\n",
    "reduce()\t         Combine all items into one\t       “Summarize everything”\n",
    "\n",
    "'''"
   ]
  },
  {
   "cell_type": "code",
   "execution_count": 5,
   "id": "7105d3ae",
   "metadata": {},
   "outputs": [
    {
     "name": "stdout",
     "output_type": "stream",
     "text": [
      "<map object at 0x10522e590>\n"
     ]
    },
    {
     "ename": "NameError",
     "evalue": "name 'temps_f1' is not defined",
     "output_type": "error",
     "traceback": [
      "\u001b[31m---------------------------------------------------------------------------\u001b[39m",
      "\u001b[31mNameError\u001b[39m                                 Traceback (most recent call last)",
      "\u001b[36mCell\u001b[39m\u001b[36m \u001b[39m\u001b[32mIn[5]\u001b[39m\u001b[32m, line 16\u001b[39m\n\u001b[32m     13\u001b[39m \u001b[38;5;28mprint\u001b[39m(temps_f)       \u001b[38;5;66;03m# -> <map object at 0x10522ead0> \u001b[39;00m\n\u001b[32m     15\u001b[39m temp_f1 = \u001b[38;5;28mlist\u001b[39m((\u001b[38;5;28mmap\u001b[39m(\u001b[38;5;28;01mlambda\u001b[39;00m c:c*\u001b[32m9\u001b[39m/\u001b[32m5\u001b[39m+\u001b[32m32\u001b[39m, temps_c)))\n\u001b[32m---> \u001b[39m\u001b[32m16\u001b[39m \u001b[38;5;28mprint\u001b[39m(\u001b[43mtemps_f1\u001b[49m)\n",
      "\u001b[31mNameError\u001b[39m: name 'temps_f1' is not defined"
     ]
    }
   ],
   "source": [
    "\n",
    "## MAP\n",
    "\n",
    "# map() — Transform Each Item\n",
    "# Think like: “Apply this formula to every data point.”\n",
    "\n",
    "\n",
    "# Example: Convert Celsius temperatures to Fahrenheit\n",
    "\n",
    "temps_c = [0, 20, 30, 40]\n",
    "\n",
    "# Formula: F = C * 9/5 + 32\n",
    "temps_f = (map(lambda c:c*9/5+32, temps_c))\n",
    "print(temps_f)       # -> <map object at 0x10522ead0> \n",
    "\n",
    "temp_f1 = list((map(lambda c:c*9/5+32, temps_c)))\n",
    "print(temps_f1)"
   ]
  },
  {
   "cell_type": "code",
   "execution_count": null,
   "id": "0891a7b6",
   "metadata": {},
   "outputs": [],
   "source": []
  }
 ],
 "metadata": {
  "kernelspec": {
   "display_name": "PythonBasics",
   "language": "python",
   "name": "python3"
  },
  "language_info": {
   "codemirror_mode": {
    "name": "ipython",
    "version": 3
   },
   "file_extension": ".py",
   "mimetype": "text/x-python",
   "name": "python",
   "nbconvert_exporter": "python",
   "pygments_lexer": "ipython3",
   "version": "3.12.11"
  }
 },
 "nbformat": 4,
 "nbformat_minor": 5
}
