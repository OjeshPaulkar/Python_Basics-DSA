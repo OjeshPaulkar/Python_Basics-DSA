{
 "cells": [
  {
   "cell_type": "code",
   "execution_count": 1,
   "id": "c7b029d0",
   "metadata": {},
   "outputs": [],
   "source": [
    "## Functions\n",
    "\n",
    "# A function is a block of reusable code that performs a specific task.\n",
    "# Instead of writing the same code multiple times, you can define a function once and call it whenever needed.\n",
    "\n",
    "\n",
    "def function_name(parameters):\n",
    "    \"\"\"docstring (optional)\"\"\"\n",
    "    # code block\n",
    "    return result\n",
    "\n"
   ]
  },
  {
   "cell_type": "code",
   "execution_count": 2,
   "id": "819529a9",
   "metadata": {},
   "outputs": [],
   "source": [
    "##🧩 Types of Functions\n",
    "\n",
    "# Built-in functions – Already provided by Python (len(), print(), type(), etc.)\n",
    "# User-defined functions – You create them using def.\n",
    "# Lambda (anonymous) functions – One-liner small functions using lambda."
   ]
  },
  {
   "cell_type": "code",
   "execution_count": 3,
   "id": "5c85c3d7",
   "metadata": {},
   "outputs": [
    {
     "name": "stdout",
     "output_type": "stream",
     "text": [
      "Hello, welcome to Python!\n",
      "12\n"
     ]
    }
   ],
   "source": [
    "## 🛠 Creating & Calling Functions\n",
    "def greet():\n",
    "    print(\"Hello, welcome to Python!\")\n",
    "\n",
    "greet()  # calling\n",
    "\n",
    "\n",
    "\n",
    "## Function with parameters and return value\n",
    "def add(a, b):\n",
    "    return a + b\n",
    "\n",
    "result = add(5, 7)\n",
    "print(result)  # 12\n"
   ]
  },
  {
   "cell_type": "code",
   "execution_count": null,
   "id": "3f5dd1d7",
   "metadata": {},
   "outputs": [
    {
     "name": "stdout",
     "output_type": "stream",
     "text": [
      "Welcome Luffy!, Happy Coding\n",
      "Welcome Guest!, Happy Coding\n",
      "1\n",
      "2\n",
      "3\n",
      "4\n",
      "5\n",
      "Python\n",
      "name:Ojesh\n",
      "age:32\n",
      "Role:AI Engineer\n"
     ]
    }
   ],
   "source": [
    "## ⚙️ Function Parameters: Types & Usage\n",
    "\n",
    "# 1. Default arguments\n",
    "# 2. Positional arguments\n",
    "# 3. Keyword arguments\n",
    "\n",
    "# Example - Default arguments\n",
    "def greet(name=\"Guest\"):\n",
    "    print(f\"Welcome {name}!, Happy Coding\")\n",
    "\n",
    "greet(\"Luffy\")    # Welcome Luffy!, Happy Coding\n",
    "greet()           # Welcome Guest!, Happy Coding   - took default value set for name parameter - if we don not set default parameter - Error\n",
    "\n",
    "\n",
    "# Example  - Positional Argument\n",
    "def show(*args):\n",
    "    for ele in args:\n",
    "        print(ele)\n",
    "\n",
    "show(1,2,3,4,5,\"Python\")   # Can take any number of arguments\n",
    "show()   # No arguments - works fine\n",
    "\n",
    "# Example  - Kewyword Arguments\n",
    "def show_details(**kwargs):\n",
    "    for key,val in kwargs.items():\n",
    "        print(f\"{key}:{val}\")\n",
    "\n",
    "show_details(name=\"Ojesh\", age=32, Role=\"AI Engineer\")    # this can take any number of key-value pairs\n",
    "show_details()   # No arguments - works fine"
   ]
  },
  {
   "cell_type": "code",
   "execution_count": null,
   "id": "3defce97",
   "metadata": {},
   "outputs": [
    {
     "name": "stdout",
     "output_type": "stream",
     "text": [
      "Ojesh 32/n"
     ]
    }
   ],
   "source": [
    "## 📦 Return Statement\n",
    "# Functions can return single or multiple values.\n",
    "\n",
    "def get_details():\n",
    "    return \"Ojesh\", 32\n",
    "\n",
    "name, age = get_details()\n",
    "print(name,age)\n"
   ]
  },
  {
   "cell_type": "code",
   "execution_count": null,
   "id": "fe25ba04",
   "metadata": {},
   "outputs": [
    {
     "name": "stdout",
     "output_type": "stream",
     "text": [
      "10 5\n",
      "10\n"
     ]
    }
   ],
   "source": [
    "## 🧠 Scope of Variables\n",
    "# Local Variable: Declared inside function, accessible only inside it.\n",
    "# Global Variable: Declared outside, accessible everywhere.\n",
    "\n",
    "x = 10  # global\n",
    "\n",
    "def func():\n",
    "    y = 5  # local\n",
    "    print(x, y)\n",
    "\n",
    "func()\n",
    "print(x)  # valid\n",
    "print(y)  # error\n"
   ]
  },
  {
   "cell_type": "code",
   "execution_count": null,
   "id": "7b9bace0",
   "metadata": {},
   "outputs": [],
   "source": [
    "\"\"\"\n",
    "##🧠 Real-Life Situations to Use Functions\n",
    "Breaking down large programs into smaller tasks\n",
    "Code reuse across multiple files (e.g., utility/helper functions)\n",
    "Handling user input validation, database connections, file operations, etc.\n",
    "Writing testable and maintainable code (functions make unit testing easy)\n",
    "\n",
    "##⚡ Pro Tips\n",
    "Keep functions small and focused on one task.\n",
    "Always return values instead of printing (for reusability).\n",
    "Use meaningful function names.\n",
    "Use default arguments and type hints to make functions more robust.\n",
    "\"\"\""
   ]
  }
 ],
 "metadata": {
  "kernelspec": {
   "display_name": "PythonBasics",
   "language": "python",
   "name": "python3"
  },
  "language_info": {
   "codemirror_mode": {
    "name": "ipython",
    "version": 3
   },
   "file_extension": ".py",
   "mimetype": "text/x-python",
   "name": "python",
   "nbconvert_exporter": "python",
   "pygments_lexer": "ipython3",
   "version": "3.12.11"
  }
 },
 "nbformat": 4,
 "nbformat_minor": 5
}
